{
 "cells": [
  {
   "cell_type": "markdown",
   "id": "696a9812",
   "metadata": {},
   "source": [
    "### representation"
   ]
  },
  {
   "cell_type": "code",
   "execution_count": 1,
   "id": "8a062d51",
   "metadata": {},
   "outputs": [
    {
     "name": "stdout",
     "output_type": "stream",
     "text": [
      "<class 'tuple'>\n"
     ]
    }
   ],
   "source": [
    "t=()\n",
    "print(type(t))"
   ]
  },
  {
   "cell_type": "code",
   "execution_count": 2,
   "id": "fc355809",
   "metadata": {},
   "outputs": [
    {
     "name": "stdout",
     "output_type": "stream",
     "text": [
      "(10, 20, 30)\n",
      "<class 'tuple'>\n"
     ]
    }
   ],
   "source": [
    "t=10,20,30\n",
    "print(t)\n",
    "print(type(t))"
   ]
  },
  {
   "cell_type": "code",
   "execution_count": 3,
   "id": "bfb56234",
   "metadata": {},
   "outputs": [
    {
     "name": "stdout",
     "output_type": "stream",
     "text": [
      "<class 'int'>\n"
     ]
    }
   ],
   "source": [
    "t=10\n",
    "print(type(t))"
   ]
  },
  {
   "cell_type": "code",
   "execution_count": 5,
   "id": "937b8d84",
   "metadata": {},
   "outputs": [
    {
     "name": "stdout",
     "output_type": "stream",
     "text": [
      "<class 'int'>\n"
     ]
    }
   ],
   "source": [
    "t=(10)\n",
    "print(type(t))"
   ]
  },
  {
   "cell_type": "code",
   "execution_count": 18,
   "id": "55051c15",
   "metadata": {},
   "outputs": [
    {
     "name": "stdout",
     "output_type": "stream",
     "text": [
      "<class 'str'>\n"
     ]
    }
   ],
   "source": [
    "t='hello'\n",
    "print(type(t))"
   ]
  },
  {
   "cell_type": "code",
   "execution_count": 4,
   "id": "811fcb39",
   "metadata": {},
   "outputs": [
    {
     "name": "stdout",
     "output_type": "stream",
     "text": [
      "<class 'tuple'>\n"
     ]
    }
   ],
   "source": [
    "t=10,\n",
    "print(type(t))"
   ]
  },
  {
   "cell_type": "markdown",
   "id": "b3100ba0",
   "metadata": {},
   "source": [
    "- tuple is represented with parenthesis where elements are seperated with comma (,)\n",
    "\n",
    "- here parenthesis is optional\n",
    "\n",
    "- to define a single value for a tuple it should be seperated with comma\n",
    "\n",
    "- comma is mandatory to define tuple data"
   ]
  },
  {
   "cell_type": "code",
   "execution_count": 12,
   "id": "7e0c5ec7",
   "metadata": {
    "scrolled": true
   },
   "outputs": [
    {
     "name": "stdout",
     "output_type": "stream",
     "text": [
      "10\n",
      "True\n"
     ]
    }
   ],
   "source": [
    "t=10,20,30,'hello','hai',True,10.5,20,30\n",
    "print(t[0])\n",
    "print(t[-4])"
   ]
  },
  {
   "cell_type": "markdown",
   "id": "2980019b",
   "metadata": {},
   "source": [
    "- tuple items are indexed, allows duplicates, heterogeneous\n",
    "\n",
    "- if we give index value out of range we get index Error"
   ]
  },
  {
   "cell_type": "code",
   "execution_count": 13,
   "id": "eb95c999",
   "metadata": {
    "scrolled": true
   },
   "outputs": [
    {
     "ename": "IndexError",
     "evalue": "tuple index out of range",
     "output_type": "error",
     "traceback": [
      "\u001b[1;31m---------------------------------------------------------------------------\u001b[0m",
      "\u001b[1;31mIndexError\u001b[0m                                Traceback (most recent call last)",
      "Cell \u001b[1;32mIn[13], line 1\u001b[0m\n\u001b[1;32m----> 1\u001b[0m \u001b[38;5;28mprint\u001b[39m(\u001b[43mt\u001b[49m\u001b[43m[\u001b[49m\u001b[38;5;241;43m100\u001b[39;49m\u001b[43m]\u001b[49m)\n",
      "\u001b[1;31mIndexError\u001b[0m: tuple index out of range"
     ]
    }
   ],
   "source": [
    "print(t[100])"
   ]
  },
  {
   "cell_type": "markdown",
   "id": "f9c88308",
   "metadata": {},
   "source": [
    "- we can also provide range\n",
    "\n",
    "- index have both positive and negative values\n",
    "\n",
    "- we can get same outputs as range values get"
   ]
  },
  {
   "cell_type": "code",
   "execution_count": 8,
   "id": "a994b606",
   "metadata": {},
   "outputs": [
    {
     "name": "stdout",
     "output_type": "stream",
     "text": [
      "('hello',)\n"
     ]
    }
   ],
   "source": [
    "t='hello',\n",
    "print(t)"
   ]
  },
  {
   "cell_type": "code",
   "execution_count": 16,
   "id": "ad0f0e82",
   "metadata": {
    "scrolled": false
   },
   "outputs": [
    {
     "name": "stdout",
     "output_type": "stream",
     "text": [
      "('hello', 'hai', True, 10.5, 20, 30)\n",
      "()\n",
      "(30, 20, 10.5, True, 'hai', 'hello', 30, 20, 10)\n"
     ]
    }
   ],
   "source": [
    "t=t=10,20,30,'hello','hai',True,10.5,20,30\n",
    "print(t[3:10])\n",
    "print(t[100:])\n",
    "print(t[::-1])"
   ]
  },
  {
   "cell_type": "markdown",
   "id": "1e080d8a",
   "metadata": {},
   "source": [
    "### operations on tuples"
   ]
  },
  {
   "cell_type": "markdown",
   "id": "6eacc222",
   "metadata": {},
   "source": [
    "**concatenation**\n",
    "\n",
    "- it concatenates only tuple to tuple "
   ]
  },
  {
   "cell_type": "code",
   "execution_count": 20,
   "id": "a8b7c957",
   "metadata": {},
   "outputs": [
    {
     "data": {
      "text/plain": [
       "(10, 20, 30, 'hello', 'hai', True, False)"
      ]
     },
     "execution_count": 20,
     "metadata": {},
     "output_type": "execute_result"
    }
   ],
   "source": [
    "t1=10,20,30,'hello','hai'\n",
    "t2=True,False\n",
    "t3=t1+t2\n",
    "t3"
   ]
  },
  {
   "cell_type": "code",
   "execution_count": 21,
   "id": "20e6cee0",
   "metadata": {
    "scrolled": true
   },
   "outputs": [
    {
     "ename": "TypeError",
     "evalue": "can only concatenate tuple (not \"bool\") to tuple",
     "output_type": "error",
     "traceback": [
      "\u001b[1;31m---------------------------------------------------------------------------\u001b[0m",
      "\u001b[1;31mTypeError\u001b[0m                                 Traceback (most recent call last)",
      "Cell \u001b[1;32mIn[21], line 3\u001b[0m\n\u001b[0;32m      1\u001b[0m t1\u001b[38;5;241m=\u001b[39m\u001b[38;5;241m10\u001b[39m,\u001b[38;5;241m20\u001b[39m,\u001b[38;5;241m30\u001b[39m,\u001b[38;5;124m'\u001b[39m\u001b[38;5;124mhello\u001b[39m\u001b[38;5;124m'\u001b[39m,\u001b[38;5;124m'\u001b[39m\u001b[38;5;124mhai\u001b[39m\u001b[38;5;124m'\u001b[39m\n\u001b[0;32m      2\u001b[0m t2\u001b[38;5;241m=\u001b[39m\u001b[38;5;28;01mTrue\u001b[39;00m\n\u001b[1;32m----> 3\u001b[0m t3\u001b[38;5;241m=\u001b[39m\u001b[43mt1\u001b[49m\u001b[38;5;241;43m+\u001b[39;49m\u001b[43mt2\u001b[49m\n\u001b[0;32m      4\u001b[0m t3\n",
      "\u001b[1;31mTypeError\u001b[0m: can only concatenate tuple (not \"bool\") to tuple"
     ]
    }
   ],
   "source": [
    "t1=10,20,30,'hello','hai'\n",
    "t2=True\n",
    "t3=t1+t2\n",
    "t3"
   ]
  },
  {
   "cell_type": "markdown",
   "id": "5ecfd8d0",
   "metadata": {},
   "source": [
    "**Nesting of tuple** : tuple inside another tuple"
   ]
  },
  {
   "cell_type": "code",
   "execution_count": 22,
   "id": "49bc1148",
   "metadata": {},
   "outputs": [
    {
     "data": {
      "text/plain": [
       "((10, 20, 30, 'hello', 'hai'), (True, False))"
      ]
     },
     "execution_count": 22,
     "metadata": {},
     "output_type": "execute_result"
    }
   ],
   "source": [
    "t1=10,20,30,'hello','hai'\n",
    "t2=True,False\n",
    "t3=(t1,t2)\n",
    "t3"
   ]
  },
  {
   "cell_type": "markdown",
   "id": "4c90b1bf",
   "metadata": {},
   "source": [
    "**repetition of tuples**"
   ]
  },
  {
   "cell_type": "code",
   "execution_count": 24,
   "id": "3319474d",
   "metadata": {},
   "outputs": [
    {
     "data": {
      "text/plain": [
       "('hello', 'hello', 'hello')"
      ]
     },
     "execution_count": 24,
     "metadata": {},
     "output_type": "execute_result"
    }
   ],
   "source": [
    "t1=('hello',)*3\n",
    "t1"
   ]
  },
  {
   "cell_type": "code",
   "execution_count": 25,
   "id": "1da739f9",
   "metadata": {},
   "outputs": [
    {
     "data": {
      "text/plain": [
       "(10, 20, 'hello', 10, 20, 'hello', 10, 20, 'hello')"
      ]
     },
     "execution_count": 25,
     "metadata": {},
     "output_type": "execute_result"
    }
   ],
   "source": [
    "t1=(10,20,'hello')*3\n",
    "t1"
   ]
  },
  {
   "cell_type": "markdown",
   "id": "22247e0d",
   "metadata": {},
   "source": [
    "**slicing**:tuple into small tuples"
   ]
  },
  {
   "cell_type": "code",
   "execution_count": 26,
   "id": "789d6d3a",
   "metadata": {},
   "outputs": [
    {
     "name": "stdout",
     "output_type": "stream",
     "text": [
      "('hello', 'hai', True, 10.5, 20, 30)\n"
     ]
    }
   ],
   "source": [
    "t=t=10,20,30,'hello','hai',True,10.5,20,30\n",
    "print(t[3:10])"
   ]
  },
  {
   "cell_type": "markdown",
   "id": "10684b2c",
   "metadata": {},
   "source": [
    "**del**:to delete a tuple"
   ]
  },
  {
   "cell_type": "code",
   "execution_count": 29,
   "id": "d0eb71e8",
   "metadata": {
    "scrolled": true
   },
   "outputs": [
    {
     "ename": "NameError",
     "evalue": "name 't' is not defined",
     "output_type": "error",
     "traceback": [
      "\u001b[1;31m---------------------------------------------------------------------------\u001b[0m",
      "\u001b[1;31mNameError\u001b[0m                                 Traceback (most recent call last)",
      "Cell \u001b[1;32mIn[29], line 3\u001b[0m\n\u001b[0;32m      1\u001b[0m t\u001b[38;5;241m=\u001b[39m\u001b[38;5;241m10\u001b[39m,\u001b[38;5;241m20\u001b[39m,\u001b[38;5;241m30\u001b[39m,\u001b[38;5;124m'\u001b[39m\u001b[38;5;124mhello\u001b[39m\u001b[38;5;124m'\u001b[39m,\u001b[38;5;124m'\u001b[39m\u001b[38;5;124mhai\u001b[39m\u001b[38;5;124m'\u001b[39m,\u001b[38;5;28;01mTrue\u001b[39;00m,\u001b[38;5;241m10.5\u001b[39m,\u001b[38;5;241m20\u001b[39m,\u001b[38;5;241m30\u001b[39m\n\u001b[0;32m      2\u001b[0m \u001b[38;5;28;01mdel\u001b[39;00m t\n\u001b[1;32m----> 3\u001b[0m \u001b[43mt\u001b[49m\n",
      "\u001b[1;31mNameError\u001b[0m: name 't' is not defined"
     ]
    }
   ],
   "source": [
    "t=10,20,30,'hello','hai',True,10.5,20,30\n",
    "del t\n",
    "t"
   ]
  },
  {
   "cell_type": "code",
   "execution_count": 30,
   "id": "25759871",
   "metadata": {},
   "outputs": [
    {
     "ename": "TypeError",
     "evalue": "'tuple' object doesn't support item deletion",
     "output_type": "error",
     "traceback": [
      "\u001b[1;31m---------------------------------------------------------------------------\u001b[0m",
      "\u001b[1;31mTypeError\u001b[0m                                 Traceback (most recent call last)",
      "Cell \u001b[1;32mIn[30], line 2\u001b[0m\n\u001b[0;32m      1\u001b[0m t\u001b[38;5;241m=\u001b[39m\u001b[38;5;241m10\u001b[39m,\u001b[38;5;241m20\u001b[39m,\u001b[38;5;241m30\u001b[39m,\u001b[38;5;124m'\u001b[39m\u001b[38;5;124mhello\u001b[39m\u001b[38;5;124m'\u001b[39m,\u001b[38;5;124m'\u001b[39m\u001b[38;5;124mhai\u001b[39m\u001b[38;5;124m'\u001b[39m,\u001b[38;5;28;01mTrue\u001b[39;00m,\u001b[38;5;241m10.5\u001b[39m,\u001b[38;5;241m20\u001b[39m,\u001b[38;5;241m30\u001b[39m\n\u001b[1;32m----> 2\u001b[0m \u001b[38;5;28;01mdel\u001b[39;00m t[\u001b[38;5;241m2\u001b[39m]\n\u001b[0;32m      3\u001b[0m t\n",
      "\u001b[1;31mTypeError\u001b[0m: 'tuple' object doesn't support item deletion"
     ]
    }
   ],
   "source": [
    "t=10,20,30,'hello','hai',True,10.5,20,30\n",
    "del t[2]\n",
    "t"
   ]
  },
  {
   "cell_type": "code",
   "execution_count": 31,
   "id": "685656ba",
   "metadata": {},
   "outputs": [
    {
     "data": {
      "text/plain": [
       "(10, 20, True, 10.5, 20, 30)"
      ]
     },
     "execution_count": 31,
     "metadata": {},
     "output_type": "execute_result"
    }
   ],
   "source": [
    "t=10,20,30,'hello','hai',True,10.5,20,30\n",
    "l=list(t)\n",
    "del l[2:5]\n",
    "tuple(l)"
   ]
  },
  {
   "cell_type": "markdown",
   "id": "bf158b44",
   "metadata": {},
   "source": [
    "**len()**"
   ]
  },
  {
   "cell_type": "code",
   "execution_count": 17,
   "id": "257019c5",
   "metadata": {},
   "outputs": [
    {
     "data": {
      "text/plain": [
       "9"
      ]
     },
     "execution_count": 17,
     "metadata": {},
     "output_type": "execute_result"
    }
   ],
   "source": [
    "t=10,20,30,'hello','hai',True,10.5,20,30\n",
    "len(t)"
   ]
  },
  {
   "cell_type": "markdown",
   "id": "a97fc12a",
   "metadata": {},
   "source": [
    "**tuple() function**\n",
    "\n",
    "- it is a constructor which converts the sequence of data into a tuple\n",
    "\n",
    "- data can be tuple,list,string "
   ]
  },
  {
   "cell_type": "code",
   "execution_count": 32,
   "id": "48a2e386",
   "metadata": {},
   "outputs": [
    {
     "data": {
      "text/plain": [
       "(10, 20, 'hello', True)"
      ]
     },
     "execution_count": 32,
     "metadata": {},
     "output_type": "execute_result"
    }
   ],
   "source": [
    "l1=[10,20,'hello',True]\n",
    "t=tuple(l1)\n",
    "t"
   ]
  },
  {
   "cell_type": "code",
   "execution_count": 34,
   "id": "3797988c",
   "metadata": {},
   "outputs": [
    {
     "data": {
      "text/plain": [
       "('h', 'e', 'l', 'l', 'o')"
      ]
     },
     "execution_count": 34,
     "metadata": {},
     "output_type": "execute_result"
    }
   ],
   "source": [
    "s='hello'\n",
    "t=tuple(s)\n",
    "t"
   ]
  },
  {
   "cell_type": "markdown",
   "id": "4bb89618",
   "metadata": {},
   "source": [
    "**count()**"
   ]
  },
  {
   "cell_type": "code",
   "execution_count": 35,
   "id": "ab484c0d",
   "metadata": {},
   "outputs": [
    {
     "data": {
      "text/plain": [
       "2"
      ]
     },
     "execution_count": 35,
     "metadata": {},
     "output_type": "execute_result"
    }
   ],
   "source": [
    "t=10,20,30,'hello','hai',True,10.5,20,30\n",
    "t.count(20)"
   ]
  },
  {
   "cell_type": "code",
   "execution_count": 36,
   "id": "4b9c4201",
   "metadata": {},
   "outputs": [
    {
     "data": {
      "text/plain": [
       "0"
      ]
     },
     "execution_count": 36,
     "metadata": {},
     "output_type": "execute_result"
    }
   ],
   "source": [
    "t=10,20,30,'hello','hai',True,10.5,20,30\n",
    "t.count((20,30))"
   ]
  },
  {
   "cell_type": "code",
   "execution_count": 37,
   "id": "53e5904e",
   "metadata": {},
   "outputs": [
    {
     "data": {
      "text/plain": [
       "2"
      ]
     },
     "execution_count": 37,
     "metadata": {},
     "output_type": "execute_result"
    }
   ],
   "source": [
    "t=(10,(20,30),'hello','hai',True,10.5,(20,30))\n",
    "t.count((20,30))"
   ]
  },
  {
   "cell_type": "code",
   "execution_count": 38,
   "id": "89886b82",
   "metadata": {},
   "outputs": [
    {
     "data": {
      "text/plain": [
       "2"
      ]
     },
     "execution_count": 38,
     "metadata": {},
     "output_type": "execute_result"
    }
   ],
   "source": [
    "t=(10,[20,30],'hello','hai',True,10.5,[20,30])\n",
    "t.count([20,30])"
   ]
  },
  {
   "cell_type": "markdown",
   "id": "2ffcf084",
   "metadata": {},
   "source": [
    "**index()**"
   ]
  },
  {
   "cell_type": "code",
   "execution_count": 39,
   "id": "8b21432b",
   "metadata": {},
   "outputs": [
    {
     "data": {
      "text/plain": [
       "3"
      ]
     },
     "execution_count": 39,
     "metadata": {},
     "output_type": "execute_result"
    }
   ],
   "source": [
    "t=(10,(20,30),'hello','hai',True,10.5,(20,30))\n",
    "t.index('hai')"
   ]
  },
  {
   "cell_type": "code",
   "execution_count": 53,
   "id": "c6d03721",
   "metadata": {},
   "outputs": [
    {
     "ename": "ValueError",
     "evalue": "tuple.index(x): x not in tuple",
     "output_type": "error",
     "traceback": [
      "\u001b[1;31m---------------------------------------------------------------------------\u001b[0m",
      "\u001b[1;31mValueError\u001b[0m                                Traceback (most recent call last)",
      "Cell \u001b[1;32mIn[53], line 2\u001b[0m\n\u001b[0;32m      1\u001b[0m t\u001b[38;5;241m=\u001b[39m(\u001b[38;5;241m10\u001b[39m,(\u001b[38;5;241m20\u001b[39m,\u001b[38;5;241m30\u001b[39m),\u001b[38;5;124m'\u001b[39m\u001b[38;5;124mhello\u001b[39m\u001b[38;5;124m'\u001b[39m,\u001b[38;5;124m'\u001b[39m\u001b[38;5;124mhai\u001b[39m\u001b[38;5;124m'\u001b[39m,\u001b[38;5;28;01mTrue\u001b[39;00m,\u001b[38;5;241m10.5\u001b[39m,(\u001b[38;5;241m20\u001b[39m,\u001b[38;5;241m30\u001b[39m))\n\u001b[1;32m----> 2\u001b[0m \u001b[43mt\u001b[49m\u001b[38;5;241;43m.\u001b[39;49m\u001b[43mindex\u001b[49m\u001b[43m(\u001b[49m\u001b[38;5;241;43m20\u001b[39;49m\u001b[43m)\u001b[49m\n\u001b[0;32m      3\u001b[0m t\n",
      "\u001b[1;31mValueError\u001b[0m: tuple.index(x): x not in tuple"
     ]
    }
   ],
   "source": [
    "t=(10,(20,30),'hello','hai',True,10.5,(20,30))\n",
    "t.index(20)\n",
    "t"
   ]
  },
  {
   "cell_type": "markdown",
   "id": "60fba1c0",
   "metadata": {},
   "source": [
    "**max() min()**"
   ]
  },
  {
   "cell_type": "code",
   "execution_count": 49,
   "id": "bcafaaa2",
   "metadata": {},
   "outputs": [
    {
     "ename": "TypeError",
     "evalue": "'>' not supported between instances of 'tuple' and 'int'",
     "output_type": "error",
     "traceback": [
      "\u001b[1;31m---------------------------------------------------------------------------\u001b[0m",
      "\u001b[1;31mTypeError\u001b[0m                                 Traceback (most recent call last)",
      "Cell \u001b[1;32mIn[49], line 2\u001b[0m\n\u001b[0;32m      1\u001b[0m t\u001b[38;5;241m=\u001b[39m(\u001b[38;5;241m10\u001b[39m,(\u001b[38;5;241m20\u001b[39m,\u001b[38;5;241m30\u001b[39m),\u001b[38;5;124m'\u001b[39m\u001b[38;5;124mhello\u001b[39m\u001b[38;5;124m'\u001b[39m,\u001b[38;5;124m'\u001b[39m\u001b[38;5;124mhai\u001b[39m\u001b[38;5;124m'\u001b[39m,\u001b[38;5;28;01mTrue\u001b[39;00m,\u001b[38;5;241m10.5\u001b[39m,(\u001b[38;5;241m20\u001b[39m,\u001b[38;5;241m30\u001b[39m))\n\u001b[1;32m----> 2\u001b[0m \u001b[38;5;28;43mmax\u001b[39;49m\u001b[43m(\u001b[49m\u001b[43mt\u001b[49m\u001b[43m)\u001b[49m,\u001b[38;5;28mmin\u001b[39m(t)\n",
      "\u001b[1;31mTypeError\u001b[0m: '>' not supported between instances of 'tuple' and 'int'"
     ]
    }
   ],
   "source": [
    "t=(10,(20,30),'hello','hai',True,10.5,(20,30))\n",
    "max(t),min(t)"
   ]
  },
  {
   "cell_type": "code",
   "execution_count": 50,
   "id": "69394783",
   "metadata": {},
   "outputs": [
    {
     "data": {
      "text/plain": [
       "(500, 10)"
      ]
     },
     "execution_count": 50,
     "metadata": {},
     "output_type": "execute_result"
    }
   ],
   "source": [
    "t=10,20,500,30,50,60\n",
    "max(t),min(t)"
   ]
  },
  {
   "cell_type": "code",
   "execution_count": 51,
   "id": "18c0bfeb",
   "metadata": {},
   "outputs": [
    {
     "data": {
      "text/plain": [
       "('you', 'are')"
      ]
     },
     "execution_count": 51,
     "metadata": {},
     "output_type": "execute_result"
    }
   ],
   "source": [
    "t='hai','hello','how','are','you'\n",
    "max(t),min(t)"
   ]
  },
  {
   "cell_type": "markdown",
   "id": "29d84ba0",
   "metadata": {},
   "source": [
    "**sum()**"
   ]
  },
  {
   "cell_type": "code",
   "execution_count": 1,
   "id": "e91de898",
   "metadata": {},
   "outputs": [
    {
     "data": {
      "text/plain": [
       "670"
      ]
     },
     "execution_count": 1,
     "metadata": {},
     "output_type": "execute_result"
    }
   ],
   "source": [
    "t=10,20,500,30,50,60\n",
    "sum(t)"
   ]
  },
  {
   "cell_type": "markdown",
   "id": "880b2773",
   "metadata": {},
   "source": [
    "**sorted()**"
   ]
  },
  {
   "cell_type": "code",
   "execution_count": 2,
   "id": "bc246e43",
   "metadata": {},
   "outputs": [
    {
     "data": {
      "text/plain": [
       "[10, 20, 30, 50, 60, 500]"
      ]
     },
     "execution_count": 2,
     "metadata": {},
     "output_type": "execute_result"
    }
   ],
   "source": [
    "t=10,20,500,30,50,60\n",
    "sorted(t)"
   ]
  },
  {
   "cell_type": "code",
   "execution_count": 3,
   "id": "d73ffe61",
   "metadata": {},
   "outputs": [
    {
     "data": {
      "text/plain": [
       "['are', 'hai', 'hello', 'how', 'you']"
      ]
     },
     "execution_count": 3,
     "metadata": {},
     "output_type": "execute_result"
    }
   ],
   "source": [
    "t='hello','hai','how','are','you'\n",
    "sorted(t)"
   ]
  },
  {
   "cell_type": "markdown",
   "id": "0e5102bb",
   "metadata": {},
   "source": [
    "**reversed()**"
   ]
  },
  {
   "cell_type": "code",
   "execution_count": 11,
   "id": "321a747c",
   "metadata": {},
   "outputs": [
    {
     "name": "stdout",
     "output_type": "stream",
     "text": [
      "olleh"
     ]
    }
   ],
   "source": [
    "s='hello'\n",
    "t=tuple(s)\n",
    "for i in reversed(t):\n",
    "    print(i,end='')\n",
    "    \n"
   ]
  },
  {
   "cell_type": "code",
   "execution_count": null,
   "id": "64e51343",
   "metadata": {},
   "outputs": [],
   "source": []
  }
 ],
 "metadata": {
  "kernelspec": {
   "display_name": "Python 3 (ipykernel)",
   "language": "python",
   "name": "python3"
  },
  "language_info": {
   "codemirror_mode": {
    "name": "ipython",
    "version": 3
   },
   "file_extension": ".py",
   "mimetype": "text/x-python",
   "name": "python",
   "nbconvert_exporter": "python",
   "pygments_lexer": "ipython3",
   "version": "3.10.9"
  }
 },
 "nbformat": 4,
 "nbformat_minor": 5
}
