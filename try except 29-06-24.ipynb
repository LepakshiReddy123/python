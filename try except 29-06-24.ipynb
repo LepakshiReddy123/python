{
 "cells": [
  {
   "cell_type": "markdown",
   "id": "985c9f26",
   "metadata": {},
   "source": [
    "**try-except**\n",
    "\n",
    "- generally in real time we will write n number of python lines\n",
    "\n",
    "- there is a situation we might get error, that error might be un known\n",
    "\n",
    "- this unknown error does not cause any harm\n",
    "\n",
    "- even though we are getting error we need to proceed further\n",
    "\n",
    "- also we need to catch that error\n",
    "\n",
    "- because we already know python is a sequential process\n",
    "\n",
    "- means the lines will execute step by step\n",
    "\n",
    "- suppose you have error at particular line, the code execution will stop at that line only\n",
    "\n",
    "- but you know that error is not harmful\n",
    "\n",
    "- so you want to continue the execution\n",
    "\n",
    "- we use trt-except-else-finally"
   ]
  },
  {
   "cell_type": "markdown",
   "id": "b719b1cc",
   "metadata": {},
   "source": [
    "- try-except has two blocks\n",
    "\n",
    "- try block has actual code\n",
    "\n",
    "- except block will catch the error"
   ]
  },
  {
   "cell_type": "code",
   "execution_count": 3,
   "id": "a1e70225",
   "metadata": {},
   "outputs": [
    {
     "name": "stdout",
     "output_type": "stream",
     "text": [
      "Enter num1: 4\n",
      "Enter num2: ten\n",
      "You are getting error\n",
      "check your code properly\n"
     ]
    }
   ],
   "source": [
    "try:\n",
    "    num1=eval(input('Enter num1: '))\n",
    "    num2=eval(input('Enter num2: '))\n",
    "    add=num1+num2\n",
    "    print(add)\n",
    "except:\n",
    "    print('You are getting error')\n",
    "    print('check your code properly')\n",
    "    "
   ]
  },
  {
   "cell_type": "markdown",
   "id": "cb70cbc4",
   "metadata": {},
   "source": [
    "**note**\n",
    "\n",
    "- generally try and except block will use to catch the errors"
   ]
  },
  {
   "cell_type": "code",
   "execution_count": 4,
   "id": "ed984dfa",
   "metadata": {},
   "outputs": [
    {
     "name": "stdout",
     "output_type": "stream",
     "text": [
      "Enter num1: 3\n",
      "Enter num2: 0\n",
      "division by zero\n"
     ]
    }
   ],
   "source": [
    "try:\n",
    "    num1=eval(input('Enter num1: '))\n",
    "    num2=eval(input('Enter num2: '))\n",
    "    add=num1+num2\n",
    "    div=num1/num2\n",
    "    print(add)\n",
    "except Exception as e:\n",
    "    print(e)\n",
    "    \n",
    "    "
   ]
  },
  {
   "cell_type": "code",
   "execution_count": 5,
   "id": "e7dfb7f2",
   "metadata": {},
   "outputs": [
    {
     "name": "stdout",
     "output_type": "stream",
     "text": [
      "Enter num1: 3\n",
      "Enter num2: 0\n",
      "the error is: division by zero\n"
     ]
    }
   ],
   "source": [
    "try:\n",
    "    num1=eval(input('Enter num1: '))\n",
    "    num2=eval(input('Enter num2: '))\n",
    "    add=num1+num2\n",
    "    div=num1/num2\n",
    "    print(add)\n",
    "except Exception as e:\n",
    "    print(f'the error is: {e}') "
   ]
  },
  {
   "cell_type": "code",
   "execution_count": 7,
   "id": "45fa0f8d",
   "metadata": {},
   "outputs": [
    {
     "name": "stdout",
     "output_type": "stream",
     "text": [
      "Enter a number: 5.4\n",
      "odd\n"
     ]
    }
   ],
   "source": [
    "try:\n",
    "    a=eval(input('Enter a number: '))\n",
    "    if a%2==0:\n",
    "        print('even')\n",
    "    else:\n",
    "        print('odd')\n",
    "except Exception as e:\n",
    "    print(e)"
   ]
  },
  {
   "cell_type": "code",
   "execution_count": 8,
   "id": "a6f6ab39",
   "metadata": {},
   "outputs": [
    {
     "name": "stdout",
     "output_type": "stream",
     "text": [
      "Enter start value: 4\n",
      "Enter the end value: 9\n",
      "4 is even\n"
     ]
    }
   ],
   "source": [
    "import random\n",
    "try:\n",
    "    start=eval(input('Enter start value: '))\n",
    "    end=eval(input('Enter the end value: '))\n",
    "    a=random.randint(start,end)\n",
    "    if a%2==0:\n",
    "        print(f'{a} is even')\n",
    "    else:\n",
    "        print(f'{a} is odd')\n",
    "except Exception as e:\n",
    "    print(e)\n"
   ]
  },
  {
   "cell_type": "code",
   "execution_count": 6,
   "id": "9ffe5832",
   "metadata": {},
   "outputs": [
    {
     "name": "stdout",
     "output_type": "stream",
     "text": [
      "Enter num1: 4\n",
      "Enter num2: ten\n",
      "<class 'NameError'>\n",
      "<class 'NameError'>\n",
      "NameError\n",
      "name 'ten' is not defined\n"
     ]
    }
   ],
   "source": [
    "try:\n",
    "    num1=eval(input('Enter num1: '))\n",
    "    num2=eval(input('Enter num2: '))\n",
    "    add=num1+num2\n",
    "    div=num1/num2\n",
    "    print(add)\n",
    "except Exception as e:\n",
    "    print(type(e))\n",
    "    print(e.__class__)\n",
    "    print(e.__class__.__name__)\n",
    "    print(e)\n",
    "   \n",
    "    "
   ]
  },
  {
   "cell_type": "code",
   "execution_count": null,
   "id": "ebaed6fe",
   "metadata": {},
   "outputs": [],
   "source": []
  }
 ],
 "metadata": {
  "kernelspec": {
   "display_name": "Python 3 (ipykernel)",
   "language": "python",
   "name": "python3"
  },
  "language_info": {
   "codemirror_mode": {
    "name": "ipython",
    "version": 3
   },
   "file_extension": ".py",
   "mimetype": "text/x-python",
   "name": "python",
   "nbconvert_exporter": "python",
   "pygments_lexer": "ipython3",
   "version": "3.10.9"
  }
 },
 "nbformat": 4,
 "nbformat_minor": 5
}
