{
 "cells": [
  {
   "cell_type": "code",
   "execution_count": null,
   "id": "8cf65d4e",
   "metadata": {},
   "outputs": [],
   "source": [
    "## string concepts"
   ]
  },
  {
   "cell_type": "markdown",
   "id": "b1d300b8",
   "metadata": {},
   "source": [
    "**strings**"
   ]
  },
  {
   "cell_type": "markdown",
   "id": "86488cdc",
   "metadata": {},
   "source": [
    "# =========Part-1=======\n",
    "\n",
    "- Initialization\n",
    "\n",
    "- type\n",
    "\n",
    "- len\n",
    "\n",
    "- max\n",
    "\n",
    "- min\n",
    "\n",
    "- sorted\n",
    "\n",
    "- reversed\n",
    "\n",
    "- in\n",
    "\n",
    "- for loop\n",
    "\n",
    "- for loop using in\n",
    "\n",
    "- index\n",
    "\n",
    "- for loop using index\n",
    "\n",
    "- mutable\n",
    "\n",
    "- concatenation\n",
    "\n",
    "# ========================part-2===============\n",
    "\n",
    "- methods"
   ]
  },
  {
   "cell_type": "markdown",
   "id": "55c79239",
   "metadata": {},
   "source": [
    "**Initialisation**"
   ]
  },
  {
   "cell_type": "code",
   "execution_count": 2,
   "id": "c2440925",
   "metadata": {},
   "outputs": [
    {
     "data": {
      "text/plain": [
       "'python'"
      ]
     },
     "execution_count": 2,
     "metadata": {},
     "output_type": "execute_result"
    }
   ],
   "source": [
    "str1='python'\n",
    "str1"
   ]
  },
  {
   "cell_type": "code",
   "execution_count": 3,
   "id": "e774e5c1",
   "metadata": {},
   "outputs": [
    {
     "data": {
      "text/plain": [
       "'python'"
      ]
     },
     "execution_count": 3,
     "metadata": {},
     "output_type": "execute_result"
    }
   ],
   "source": [
    "str2=\"python\"\n",
    "str2"
   ]
  },
  {
   "cell_type": "code",
   "execution_count": 4,
   "id": "a2230196",
   "metadata": {},
   "outputs": [
    {
     "name": "stdout",
     "output_type": "stream",
     "text": [
      "python\n"
     ]
    }
   ],
   "source": [
    "str1='python'\n",
    "print(str1)"
   ]
  },
  {
   "cell_type": "markdown",
   "id": "78ebd43b",
   "metadata": {},
   "source": [
    "**Note**\n",
    "\n",
    "- if we mentioned single quotes or double quotes by default python provides in single quotes\n",
    "\n",
    "- if we print the strings, we will see answer without quotes\n",
    "\n",
    "- triple quotes are used for docstring\n",
    "\n",
    "- inorder to convey the information about coding part we will use docstring\n",
    "\n",
    "- anything inside inside quotes cosider as string only"
   ]
  },
  {
   "cell_type": "markdown",
   "id": "72da1775",
   "metadata": {},
   "source": [
    "**Triple Quotes**"
   ]
  },
  {
   "cell_type": "code",
   "execution_count": 6,
   "id": "a5458cc8",
   "metadata": {},
   "outputs": [
    {
     "data": {
      "text/plain": [
       "'hi how are you\\n           im good'"
      ]
     },
     "execution_count": 6,
     "metadata": {},
     "output_type": "execute_result"
    }
   ],
   "source": [
    "str3='''hi how are you\n",
    "           im good'''\n",
    "str3"
   ]
  },
  {
   "cell_type": "markdown",
   "id": "19e788c9",
   "metadata": {},
   "source": [
    "**type**"
   ]
  },
  {
   "cell_type": "code",
   "execution_count": 8,
   "id": "06ddff9a",
   "metadata": {},
   "outputs": [
    {
     "data": {
      "text/plain": [
       "str"
      ]
     },
     "execution_count": 8,
     "metadata": {},
     "output_type": "execute_result"
    }
   ],
   "source": [
    "type(str1)"
   ]
  },
  {
   "cell_type": "code",
   "execution_count": null,
   "id": "ce18415c",
   "metadata": {},
   "outputs": [],
   "source": [
    "str4='10'\n",
    "str5='10.5'\n",
    "str6='123heloo'\n",
    "str7='True'\n",
    "str8='sinx'\n",
    "#all are in quotes means strings"
   ]
  },
  {
   "cell_type": "markdown",
   "id": "313c3331",
   "metadata": {},
   "source": [
    "**len**"
   ]
  },
  {
   "cell_type": "code",
   "execution_count": 11,
   "id": "eb0ce023",
   "metadata": {},
   "outputs": [
    {
     "data": {
      "text/plain": [
       "6"
      ]
     },
     "execution_count": 11,
     "metadata": {},
     "output_type": "execute_result"
    }
   ],
   "source": [
    "str1='python'\n",
    "len(str1)"
   ]
  },
  {
   "cell_type": "code",
   "execution_count": 12,
   "id": "1c430683",
   "metadata": {},
   "outputs": [
    {
     "data": {
      "text/plain": [
       "9"
      ]
     },
     "execution_count": 12,
     "metadata": {},
     "output_type": "execute_result"
    }
   ],
   "source": [
    "str2='hello 123'\n",
    "len(str2)"
   ]
  },
  {
   "cell_type": "markdown",
   "id": "0d88e920",
   "metadata": {},
   "source": [
    "**max and min**"
   ]
  },
  {
   "cell_type": "code",
   "execution_count": 13,
   "id": "ef367305",
   "metadata": {},
   "outputs": [
    {
     "data": {
      "text/plain": [
       "('y', 'h')"
      ]
     },
     "execution_count": 13,
     "metadata": {},
     "output_type": "execute_result"
    }
   ],
   "source": [
    "max(str1),min(str1)"
   ]
  },
  {
   "cell_type": "markdown",
   "id": "f754881a",
   "metadata": {},
   "source": [
    "**sorted**"
   ]
  },
  {
   "cell_type": "code",
   "execution_count": 14,
   "id": "09744c0c",
   "metadata": {
    "scrolled": true
   },
   "outputs": [
    {
     "data": {
      "text/plain": [
       "['h', 'n', 'o', 'p', 't', 'y']"
      ]
     },
     "execution_count": 14,
     "metadata": {},
     "output_type": "execute_result"
    }
   ],
   "source": [
    "sorted(str1) # output is in the form of list\n",
    "# reverse=False"
   ]
  },
  {
   "cell_type": "code",
   "execution_count": 22,
   "id": "8baa4bde",
   "metadata": {
    "scrolled": true
   },
   "outputs": [
    {
     "data": {
      "text/plain": [
       "['y', 't', 'p', 'o', 'n', 'h']"
      ]
     },
     "execution_count": 22,
     "metadata": {},
     "output_type": "execute_result"
    }
   ],
   "source": [
    "sorted(str1,reverse=True)"
   ]
  },
  {
   "cell_type": "markdown",
   "id": "2b5e2664",
   "metadata": {},
   "source": [
    "- sorted gives ascending order based on ascii values\n",
    "\n",
    "- sorted is a kind of function\n",
    "\n",
    "- every function we have arguments\n",
    "\n",
    "- in that one default argument is **reverse=False**\n",
    "\n",
    "- By default sorted output gives **ascending order**\n",
    "\n",
    "- we can change the order ,by providing **reverse=True**\n",
    "\n",
    "- if we dont mention we get default answer"
   ]
  },
  {
   "cell_type": "code",
   "execution_count": 23,
   "id": "2d9431c3",
   "metadata": {},
   "outputs": [
    {
     "data": {
      "text/plain": [
       "0j"
      ]
     },
     "execution_count": 23,
     "metadata": {},
     "output_type": "execute_result"
    }
   ],
   "source": [
    "complex()"
   ]
  },
  {
   "cell_type": "markdown",
   "id": "1b5e5b71",
   "metadata": {},
   "source": [
    "**reversed**"
   ]
  },
  {
   "cell_type": "code",
   "execution_count": 30,
   "id": "6b4e1d1c",
   "metadata": {},
   "outputs": [
    {
     "data": {
      "text/plain": [
       "<reversed at 0x2c51cc7bca0>"
      ]
     },
     "execution_count": 30,
     "metadata": {},
     "output_type": "execute_result"
    }
   ],
   "source": [
    "reversed('python')"
   ]
  },
  {
   "cell_type": "markdown",
   "id": "d1e849b3",
   "metadata": {},
   "source": [
    "- i already done my work\n",
    "\n",
    "- your output is stored in that memory location\n",
    "\n",
    "- whenever you see this kind of answer less tahn and greater than symbol or memory\n",
    "\n",
    "- use for loop to see answer\n"
   ]
  },
  {
   "cell_type": "code",
   "execution_count": 31,
   "id": "2c66a854",
   "metadata": {},
   "outputs": [
    {
     "name": "stdout",
     "output_type": "stream",
     "text": [
      "nohtyp"
     ]
    }
   ],
   "source": [
    "str1='python'\n",
    "output=reversed(str1)\n",
    "for i in output:\n",
    "    print(i,end='')"
   ]
  },
  {
   "cell_type": "code",
   "execution_count": 18,
   "id": "6e591cc5",
   "metadata": {},
   "outputs": [
    {
     "name": "stdout",
     "output_type": "stream",
     "text": [
      "nohtyp\n"
     ]
    }
   ],
   "source": [
    "str1='python'\n",
    "print(str1[::-1])"
   ]
  },
  {
   "cell_type": "markdown",
   "id": "1657eb74",
   "metadata": {},
   "source": [
    "**sum**"
   ]
  },
  {
   "cell_type": "code",
   "execution_count": 21,
   "id": "3bc00041",
   "metadata": {
    "scrolled": true
   },
   "outputs": [
    {
     "ename": "TypeError",
     "evalue": "unsupported operand type(s) for +: 'int' and 'str'",
     "output_type": "error",
     "traceback": [
      "\u001b[1;31m---------------------------------------------------------------------------\u001b[0m",
      "\u001b[1;31mTypeError\u001b[0m                                 Traceback (most recent call last)",
      "Cell \u001b[1;32mIn[21], line 2\u001b[0m\n\u001b[0;32m      1\u001b[0m str1\u001b[38;5;241m=\u001b[39m\u001b[38;5;124m'\u001b[39m\u001b[38;5;124mpython\u001b[39m\u001b[38;5;124m'\u001b[39m\n\u001b[1;32m----> 2\u001b[0m \u001b[38;5;28;43msum\u001b[39;49m\u001b[43m(\u001b[49m\u001b[43mstr1\u001b[49m\u001b[43m)\u001b[49m\n",
      "\u001b[1;31mTypeError\u001b[0m: unsupported operand type(s) for +: 'int' and 'str'"
     ]
    }
   ],
   "source": [
    "str1='python'\n",
    "sum(str1)"
   ]
  },
  {
   "cell_type": "markdown",
   "id": "6823593a",
   "metadata": {},
   "source": [
    "## keywords vs methods"
   ]
  },
  {
   "cell_type": "markdown",
   "id": "ed40abe9",
   "metadata": {},
   "source": [
    "### keywords\n",
    "\n",
    "- type(<>)\n",
    "\n",
    "- print(<>)\n",
    "\n",
    "- len(<>)\n",
    "\n",
    "- max(<>)\n",
    "\n",
    "- min(<>)\n",
    "\n",
    "- eval(<>)\n",
    "\n",
    "- input(<>)\n",
    "\n",
    "### ==========methods=====\n",
    "\n",
    "- in order to use method we need to call package\n",
    "\n"
   ]
  },
  {
   "cell_type": "code",
   "execution_count": 26,
   "id": "b264ca58",
   "metadata": {},
   "outputs": [
    {
     "data": {
      "text/plain": [
       "12"
      ]
     },
     "execution_count": 26,
     "metadata": {},
     "output_type": "execute_result"
    }
   ],
   "source": [
    "import random\n",
    "random.randint(a=10,b=20)"
   ]
  },
  {
   "cell_type": "code",
   "execution_count": 25,
   "id": "0d010421",
   "metadata": {},
   "outputs": [
    {
     "ename": "TypeError",
     "evalue": "sorted expected 1 argument, got 0",
     "output_type": "error",
     "traceback": [
      "\u001b[1;31m---------------------------------------------------------------------------\u001b[0m",
      "\u001b[1;31mTypeError\u001b[0m                                 Traceback (most recent call last)",
      "Cell \u001b[1;32mIn[25], line 1\u001b[0m\n\u001b[1;32m----> 1\u001b[0m \u001b[38;5;28;43msorted\u001b[39;49m\u001b[43m(\u001b[49m\u001b[43miterable\u001b[49m\u001b[38;5;241;43m=\u001b[39;49m\u001b[38;5;124;43m'\u001b[39;49m\u001b[38;5;124;43mpython\u001b[39;49m\u001b[38;5;124;43m'\u001b[39;49m\u001b[43m)\u001b[49m\n",
      "\u001b[1;31mTypeError\u001b[0m: sorted expected 1 argument, got 0"
     ]
    }
   ],
   "source": [
    "sorted(iterable='python')"
   ]
  },
  {
   "cell_type": "markdown",
   "id": "806f8b22",
   "metadata": {},
   "source": [
    "#sorted()\n",
    "\n",
    "Signature: sorted(iterable, /, *, key=None, reverse=False)\n",
    "\n",
    "Docstring:\n",
    "\n",
    "Return a new list containing all items from the iterable in ascending order.\n",
    "\n",
    "A custom key function can be supplied to customize the sort order, and the\n",
    "\n",
    "reverse flag can be set to request the result in descending order.\n",
    "\n",
    "Type:      builtin_function_or_method\n",
    "    \n",
    "if we assignment betfore slash(/) we get error\n",
    "\n",
    "after slash(/) is it works\n",
    "\n",
    "- we can use the arguments which are after slash\n",
    "\n",
    "- so we can use only reverse argument name while we are doing the work\n",
    "\n",
    "- we cannot use iterable argument name\n",
    "\n",
    "- instead of using iterable name, we can provide direct value at that position"
   ]
  },
  {
   "cell_type": "code",
   "execution_count": 2,
   "id": "2d32b47e",
   "metadata": {},
   "outputs": [
    {
     "ename": "TypeError",
     "evalue": "sorted expected 1 argument, got 2",
     "output_type": "error",
     "traceback": [
      "\u001b[1;31m---------------------------------------------------------------------------\u001b[0m",
      "\u001b[1;31mTypeError\u001b[0m                                 Traceback (most recent call last)",
      "Cell \u001b[1;32mIn[2], line 1\u001b[0m\n\u001b[1;32m----> 1\u001b[0m \u001b[38;5;28;43msorted\u001b[39;49m\u001b[43m(\u001b[49m\u001b[38;5;124;43m'\u001b[39;49m\u001b[38;5;124;43mhello\u001b[39;49m\u001b[38;5;124;43m'\u001b[39;49m\u001b[43m,\u001b[49m\u001b[38;5;28;43;01mTrue\u001b[39;49;00m\u001b[43m)\u001b[49m\n",
      "\u001b[1;31mTypeError\u001b[0m: sorted expected 1 argument, got 2"
     ]
    }
   ],
   "source": [
    "sorted('hello',True)"
   ]
  },
  {
   "cell_type": "code",
   "execution_count": 3,
   "id": "5a5bc098",
   "metadata": {},
   "outputs": [
    {
     "data": {
      "text/plain": [
       "[2, 4, 30, 50]"
      ]
     },
     "execution_count": 3,
     "metadata": {},
     "output_type": "execute_result"
    }
   ],
   "source": [
    "sorted([2,50,30,4])\n"
   ]
  },
  {
   "cell_type": "markdown",
   "id": "4eba0ede",
   "metadata": {},
   "source": [
    "**in**"
   ]
  },
  {
   "cell_type": "code",
   "execution_count": 6,
   "id": "46b78203",
   "metadata": {},
   "outputs": [
    {
     "data": {
      "text/plain": [
       "True"
      ]
     },
     "execution_count": 6,
     "metadata": {},
     "output_type": "execute_result"
    }
   ],
   "source": [
    "str1='naresh'\n",
    "'n' in str1"
   ]
  },
  {
   "cell_type": "code",
   "execution_count": 8,
   "id": "cd26b902",
   "metadata": {},
   "outputs": [
    {
     "data": {
      "text/plain": [
       "False"
      ]
     },
     "execution_count": 8,
     "metadata": {},
     "output_type": "execute_result"
    }
   ],
   "source": [
    "'k' in str1"
   ]
  },
  {
   "cell_type": "code",
   "execution_count": 9,
   "id": "feee62b5",
   "metadata": {},
   "outputs": [
    {
     "name": "stdout",
     "output_type": "stream",
     "text": [
      "n a r e s h "
     ]
    }
   ],
   "source": [
    "for i in str1:\n",
    "    print(i,end=' ')"
   ]
  },
  {
   "cell_type": "markdown",
   "id": "0e26ba03",
   "metadata": {},
   "source": [
    "- **in** operator directly access the letters"
   ]
  },
  {
   "cell_type": "markdown",
   "id": "a7f9e475",
   "metadata": {},
   "source": [
    "**1. wap ask the user count howmany 'a' are present in given string**\n",
    "\n",
    "**str1= 'hai naresh how are you'**"
   ]
  },
  {
   "cell_type": "code",
   "execution_count": 11,
   "id": "a1a5bd07",
   "metadata": {},
   "outputs": [
    {
     "name": "stdout",
     "output_type": "stream",
     "text": [
      "Enter a string: hai naresh how are you\n",
      "the count is :  3\n"
     ]
    }
   ],
   "source": [
    "\n",
    "str1=input('Enter a string: ')\n",
    "count=0\n",
    "for i in str1:\n",
    "    if i == 'a':\n",
    "        count+=1\n",
    "print('the count is : ',count)"
   ]
  },
  {
   "cell_type": "markdown",
   "id": "5f0ea84d",
   "metadata": {},
   "source": [
    "**2. wap ask the user find how many vowels are there in a given string**\n",
    "\n",
    "**str1= 'hai naresh how are you'**"
   ]
  },
  {
   "cell_type": "code",
   "execution_count": 13,
   "id": "45160342",
   "metadata": {},
   "outputs": [
    {
     "name": "stdout",
     "output_type": "stream",
     "text": [
      "Enter a string: hai naresh how are you\n",
      "the count of vowels is :  9\n"
     ]
    }
   ],
   "source": [
    "str1=input('Enter a string: ')\n",
    "count=0\n",
    "for i in str1:\n",
    "    if i == 'a' or i=='e' or i=='i' or i=='o' or i=='u':\n",
    "        count+=1\n",
    "print('the count of vowels is : ',count)"
   ]
  },
  {
   "cell_type": "code",
   "execution_count": 14,
   "id": "2421be6e",
   "metadata": {},
   "outputs": [
    {
     "name": "stdout",
     "output_type": "stream",
     "text": [
      "Enter a string: hai naresh how are you\n",
      "the count of vowels is :  9\n"
     ]
    }
   ],
   "source": [
    "str1=input('Enter a string: ')\n",
    "l=['a','e','i','o','u']\n",
    "count=0\n",
    "for i in str1:\n",
    "    if i in l:\n",
    "        count+=1\n",
    "print('the count of vowels is : ',count)"
   ]
  },
  {
   "cell_type": "code",
   "execution_count": 15,
   "id": "d7c808d1",
   "metadata": {},
   "outputs": [
    {
     "name": "stdout",
     "output_type": "stream",
     "text": [
      "Enter a string: hai naresh how are you\n",
      "the count of vowels is :  9\n"
     ]
    }
   ],
   "source": [
    "str1=input('Enter a string: ')\n",
    "str2='aeiou'\n",
    "count=0\n",
    "for i in str1:\n",
    "    if i in str2:\n",
    "        count+=1\n",
    "print('the count of vowels is : ',count)"
   ]
  },
  {
   "cell_type": "markdown",
   "id": "8f99afb9",
   "metadata": {},
   "source": [
    "**3. str1= 'hai naresh how are you'**\n",
    "\n",
    "**repeated vowels are there**\n",
    "\n",
    "**we dont want repeated vowels**\n",
    "\n",
    "**count the vowels avoid repetition**"
   ]
  },
  {
   "cell_type": "code",
   "execution_count": 21,
   "id": "1cfc19ed",
   "metadata": {},
   "outputs": [
    {
     "name": "stdout",
     "output_type": "stream",
     "text": [
      "Enter a string: hi hello\n",
      "the count of vowels is :  3\n"
     ]
    }
   ],
   "source": [
    "str1=input('Enter a string: ')\n",
    "str2='aeiou'\n",
    "str3=''\n",
    "count=0\n",
    "for i in str1:\n",
    "    if i in str2 and i not in str3:\n",
    "        str3+=i\n",
    "        \n",
    "print('the count of vowels is : ',len(str3))"
   ]
  },
  {
   "cell_type": "code",
   "execution_count": 22,
   "id": "5d50252c",
   "metadata": {},
   "outputs": [
    {
     "name": "stdout",
     "output_type": "stream",
     "text": [
      "Enter a string: hai hello\n",
      "the count of vowels is :  4\n"
     ]
    }
   ],
   "source": [
    "str1=input('Enter a string: ')\n",
    "str2='aeiou'\n",
    "str3=''\n",
    "count=0\n",
    "for i in str1:\n",
    "    if i not in str3:\n",
    "        if i in str2:\n",
    "            \n",
    "            str3+=i\n",
    "            count+=1\n",
    "        \n",
    "print('the count of vowels is : ',count)"
   ]
  },
  {
   "cell_type": "markdown",
   "id": "27329ea9",
   "metadata": {},
   "source": [
    "**how to update empty string**"
   ]
  },
  {
   "cell_type": "code",
   "execution_count": 24,
   "id": "ee479dc8",
   "metadata": {},
   "outputs": [
    {
     "data": {
      "text/plain": [
       "'python'"
      ]
     },
     "execution_count": 24,
     "metadata": {},
     "output_type": "execute_result"
    }
   ],
   "source": [
    "s1='python'\n",
    "s2=''\n",
    "for i in s1:\n",
    "    s2=s2+i #concatenation\n",
    "s2"
   ]
  },
  {
   "cell_type": "markdown",
   "id": "cb5c1737",
   "metadata": {},
   "source": [
    "**concatenation**"
   ]
  },
  {
   "cell_type": "code",
   "execution_count": 25,
   "id": "cf1a7cf9",
   "metadata": {},
   "outputs": [
    {
     "data": {
      "text/plain": [
       "'hellobye'"
      ]
     },
     "execution_count": 25,
     "metadata": {},
     "output_type": "execute_result"
    }
   ],
   "source": [
    "s1='hello'\n",
    "s2='bye'\n",
    "s1+s2"
   ]
  },
  {
   "cell_type": "code",
   "execution_count": 26,
   "id": "1b5bd118",
   "metadata": {},
   "outputs": [
    {
     "data": {
      "text/plain": [
       "'hello bye'"
      ]
     },
     "execution_count": 26,
     "metadata": {},
     "output_type": "execute_result"
    }
   ],
   "source": [
    "s1='hello '\n",
    "s2='bye'\n",
    "s1+s2"
   ]
  },
  {
   "cell_type": "code",
   "execution_count": 27,
   "id": "e0a950a9",
   "metadata": {},
   "outputs": [
    {
     "data": {
      "text/plain": [
       "'hello bye'"
      ]
     },
     "execution_count": 27,
     "metadata": {},
     "output_type": "execute_result"
    }
   ],
   "source": [
    "s1='hello'\n",
    "s2=' bye'\n",
    "s1+s2"
   ]
  },
  {
   "cell_type": "code",
   "execution_count": 28,
   "id": "f1397897",
   "metadata": {},
   "outputs": [
    {
     "data": {
      "text/plain": [
       "'hello bye'"
      ]
     },
     "execution_count": 28,
     "metadata": {},
     "output_type": "execute_result"
    }
   ],
   "source": [
    "s1='hello'\n",
    "s2=' '\n",
    "s3='bye'\n",
    "s1+s2+s3"
   ]
  },
  {
   "cell_type": "code",
   "execution_count": 29,
   "id": "dc476acf",
   "metadata": {},
   "outputs": [
    {
     "ename": "TypeError",
     "evalue": "can't multiply sequence by non-int of type 'str'",
     "output_type": "error",
     "traceback": [
      "\u001b[1;31m---------------------------------------------------------------------------\u001b[0m",
      "\u001b[1;31mTypeError\u001b[0m                                 Traceback (most recent call last)",
      "Cell \u001b[1;32mIn[29], line 3\u001b[0m\n\u001b[0;32m      1\u001b[0m s1\u001b[38;5;241m=\u001b[39m\u001b[38;5;124m'\u001b[39m\u001b[38;5;124mhello\u001b[39m\u001b[38;5;124m'\u001b[39m\n\u001b[0;32m      2\u001b[0m s2\u001b[38;5;241m=\u001b[39m\u001b[38;5;124m'\u001b[39m\u001b[38;5;124m bye\u001b[39m\u001b[38;5;124m'\u001b[39m\n\u001b[1;32m----> 3\u001b[0m \u001b[43ms1\u001b[49m\u001b[38;5;241;43m*\u001b[39;49m\u001b[43ms2\u001b[49m\n",
      "\u001b[1;31mTypeError\u001b[0m: can't multiply sequence by non-int of type 'str'"
     ]
    }
   ],
   "source": [
    "s1='hello'\n",
    "s2=' bye'\n",
    "s1*s2"
   ]
  },
  {
   "cell_type": "code",
   "execution_count": 30,
   "id": "27a42d11",
   "metadata": {},
   "outputs": [
    {
     "ename": "TypeError",
     "evalue": "unsupported operand type(s) for /: 'str' and 'str'",
     "output_type": "error",
     "traceback": [
      "\u001b[1;31m---------------------------------------------------------------------------\u001b[0m",
      "\u001b[1;31mTypeError\u001b[0m                                 Traceback (most recent call last)",
      "Cell \u001b[1;32mIn[30], line 1\u001b[0m\n\u001b[1;32m----> 1\u001b[0m \u001b[43ms1\u001b[49m\u001b[38;5;241;43m/\u001b[39;49m\u001b[43ms2\u001b[49m\n",
      "\u001b[1;31mTypeError\u001b[0m: unsupported operand type(s) for /: 'str' and 'str'"
     ]
    }
   ],
   "source": [
    "s1/s2"
   ]
  },
  {
   "cell_type": "code",
   "execution_count": 31,
   "id": "858c0c20",
   "metadata": {},
   "outputs": [
    {
     "ename": "TypeError",
     "evalue": "unsupported operand type(s) for -: 'str' and 'str'",
     "output_type": "error",
     "traceback": [
      "\u001b[1;31m---------------------------------------------------------------------------\u001b[0m",
      "\u001b[1;31mTypeError\u001b[0m                                 Traceback (most recent call last)",
      "Cell \u001b[1;32mIn[31], line 1\u001b[0m\n\u001b[1;32m----> 1\u001b[0m \u001b[43ms1\u001b[49m\u001b[38;5;241;43m-\u001b[39;49m\u001b[43ms2\u001b[49m\n",
      "\u001b[1;31mTypeError\u001b[0m: unsupported operand type(s) for -: 'str' and 'str'"
     ]
    }
   ],
   "source": [
    "s1-s2"
   ]
  },
  {
   "cell_type": "code",
   "execution_count": 33,
   "id": "9f306b9c",
   "metadata": {},
   "outputs": [
    {
     "data": {
      "text/plain": [
       "'hello hello hello hello '"
      ]
     },
     "execution_count": 33,
     "metadata": {},
     "output_type": "execute_result"
    }
   ],
   "source": [
    "s1='hello '\n",
    "s2=4\n",
    "s1*s2"
   ]
  },
  {
   "cell_type": "code",
   "execution_count": 35,
   "id": "b33185b5",
   "metadata": {},
   "outputs": [
    {
     "data": {
      "text/plain": [
       "'hello hello hello hello '"
      ]
     },
     "execution_count": 35,
     "metadata": {},
     "output_type": "execute_result"
    }
   ],
   "source": [
    "s1='hello '\n",
    "s2=4\n",
    "s2*s1"
   ]
  },
  {
   "cell_type": "code",
   "execution_count": 34,
   "id": "f760767d",
   "metadata": {},
   "outputs": [
    {
     "ename": "TypeError",
     "evalue": "unsupported operand type(s) for /: 'str' and 'int'",
     "output_type": "error",
     "traceback": [
      "\u001b[1;31m---------------------------------------------------------------------------\u001b[0m",
      "\u001b[1;31mTypeError\u001b[0m                                 Traceback (most recent call last)",
      "Cell \u001b[1;32mIn[34], line 1\u001b[0m\n\u001b[1;32m----> 1\u001b[0m \u001b[43ms1\u001b[49m\u001b[38;5;241;43m/\u001b[39;49m\u001b[43ms2\u001b[49m\n",
      "\u001b[1;31mTypeError\u001b[0m: unsupported operand type(s) for /: 'str' and 'int'"
     ]
    }
   ],
   "source": [
    "s1/s2"
   ]
  },
  {
   "cell_type": "markdown",
   "id": "f900ca06",
   "metadata": {},
   "source": [
    "**index operation**\n",
    "\n",
    "- index meaning a number attached to a letter\n",
    "\n",
    "- in python index starts with zero\n",
    "\n",
    "- we have directions\n",
    "\n",
    "    - positive direction: 0 to n\n",
    "    \n",
    "    - negative direction: -1 to -n"
   ]
  },
  {
   "cell_type": "code",
   "execution_count": 37,
   "id": "280751c1",
   "metadata": {},
   "outputs": [
    {
     "data": {
      "text/plain": [
       "'h'"
      ]
     },
     "execution_count": 37,
     "metadata": {},
     "output_type": "execute_result"
    }
   ],
   "source": [
    "s1='python'\n",
    "s1[3]"
   ]
  },
  {
   "cell_type": "code",
   "execution_count": 38,
   "id": "77c6dd22",
   "metadata": {},
   "outputs": [
    {
     "data": {
      "text/plain": [
       "'n'"
      ]
     },
     "execution_count": 38,
     "metadata": {},
     "output_type": "execute_result"
    }
   ],
   "source": [
    "s1[-1]"
   ]
  },
  {
   "cell_type": "code",
   "execution_count": 39,
   "id": "c00f805b",
   "metadata": {},
   "outputs": [
    {
     "ename": "IndexError",
     "evalue": "string index out of range",
     "output_type": "error",
     "traceback": [
      "\u001b[1;31m---------------------------------------------------------------------------\u001b[0m",
      "\u001b[1;31mIndexError\u001b[0m                                Traceback (most recent call last)",
      "Cell \u001b[1;32mIn[39], line 1\u001b[0m\n\u001b[1;32m----> 1\u001b[0m \u001b[43ms1\u001b[49m\u001b[43m[\u001b[49m\u001b[38;5;241;43m10\u001b[39;49m\u001b[43m]\u001b[49m\n",
      "\u001b[1;31mIndexError\u001b[0m: string index out of range"
     ]
    }
   ],
   "source": [
    "s1[10]"
   ]
  },
  {
   "cell_type": "markdown",
   "id": "8f7b05ae",
   "metadata": {},
   "source": [
    "**mutable-immutable**\n",
    "\n",
    "- mutable: it can change\n",
    "\n",
    "    - we can change using indexing\n",
    "\n",
    "- immutable: can not change (strings,\n",
    "\n",
    "    - we can not change using indexing"
   ]
  },
  {
   "cell_type": "code",
   "execution_count": 11,
   "id": "d4f37266",
   "metadata": {},
   "outputs": [
    {
     "ename": "TypeError",
     "evalue": "'str' object does not support item assignment",
     "output_type": "error",
     "traceback": [
      "\u001b[1;31m---------------------------------------------------------------------------\u001b[0m",
      "\u001b[1;31mTypeError\u001b[0m                                 Traceback (most recent call last)",
      "Cell \u001b[1;32mIn[11], line 3\u001b[0m\n\u001b[0;32m      1\u001b[0m s\u001b[38;5;241m=\u001b[39m\u001b[38;5;124m'\u001b[39m\u001b[38;5;124mwelcome\u001b[39m\u001b[38;5;124m'\u001b[39m\n\u001b[0;32m      2\u001b[0m \u001b[38;5;66;03m#replace l with L\u001b[39;00m\n\u001b[1;32m----> 3\u001b[0m s[\u001b[38;5;241m2\u001b[39m]\u001b[38;5;241m=\u001b[39m\u001b[38;5;124m'\u001b[39m\u001b[38;5;124mL\u001b[39m\u001b[38;5;124m'\u001b[39m\n",
      "\u001b[1;31mTypeError\u001b[0m: 'str' object does not support item assignment"
     ]
    }
   ],
   "source": [
    "s='welcome'\n",
    "#replace l with L\n",
    "s[2]='L'"
   ]
  },
  {
   "cell_type": "code",
   "execution_count": 10,
   "id": "ea87f3e9",
   "metadata": {},
   "outputs": [
    {
     "name": "stdout",
     "output_type": "stream",
     "text": [
      "3073905932400\n",
      "3073905979760\n"
     ]
    }
   ],
   "source": [
    "s='welcome'\n",
    "s1=s.replace('l','L')\n",
    "print(id(s))\n",
    "print(id(s1))"
   ]
  },
  {
   "cell_type": "code",
   "execution_count": 17,
   "id": "a4ef3630",
   "metadata": {},
   "outputs": [
    {
     "name": "stdout",
     "output_type": "stream",
     "text": [
      "3073906406720\n",
      "[10, 20, 30, 50]\n",
      "3073906406720\n"
     ]
    }
   ],
   "source": [
    "l=[10,20,30,40]\n",
    "print(id(l))\n",
    "l[3]=50\n",
    "print(l)\n",
    "print(id(l))"
   ]
  },
  {
   "cell_type": "code",
   "execution_count": 21,
   "id": "22590abb",
   "metadata": {},
   "outputs": [
    {
     "name": "stdout",
     "output_type": "stream",
     "text": [
      "3073906348736\n",
      "[10, 20, 30, 50]\n",
      "3073906348736\n"
     ]
    }
   ],
   "source": [
    "l1=[10,20,30,40]\n",
    "print(id(l1))\n",
    "l1[3]=50\n",
    "l2=l1\n",
    "print(l2)\n",
    "print(id(l2))"
   ]
  },
  {
   "cell_type": "code",
   "execution_count": 14,
   "id": "dda49d79",
   "metadata": {},
   "outputs": [
    {
     "data": {
      "text/plain": [
       "'Hai naresH how are you'"
      ]
     },
     "execution_count": 14,
     "metadata": {},
     "output_type": "execute_result"
    }
   ],
   "source": [
    "s='hai naresh how are you'\n",
    "s.replace('h','H',2)# here 2 represents the count that means only first two occurences will change"
   ]
  },
  {
   "cell_type": "markdown",
   "id": "84b3d084",
   "metadata": {},
   "source": [
    "**4. print each letter using for loop range**"
   ]
  },
  {
   "cell_type": "code",
   "execution_count": 20,
   "id": "13772136",
   "metadata": {},
   "outputs": [
    {
     "name": "stdout",
     "output_type": "stream",
     "text": [
      "welcome"
     ]
    }
   ],
   "source": [
    "s='welcome'\n",
    "# range belongs to which family - math family\n",
    "# inside bracket we need to provide a number\n",
    "# how many numbers we need to provide - using len(<string_variable>)\n",
    "# how to access the letter using number - using index operation string_variable[<index_value>]\n",
    "for i in range(len(s)):\n",
    "    print(s[i],end='')"
   ]
  },
  {
   "cell_type": "markdown",
   "id": "033e3eef",
   "metadata": {},
   "source": [
    "- **for-in** directly access the letter\n",
    "\n",
    "- **for-range** will access using index"
   ]
  },
  {
   "cell_type": "markdown",
   "id": "7e1b5c84",
   "metadata": {},
   "source": [
    "**5. wap ask the user iterate using a string**\n",
    "\n",
    "**print the positive index of w is 0**\n",
    "\n",
    "**print the positive index of e is 1**"
   ]
  },
  {
   "cell_type": "code",
   "execution_count": 23,
   "id": "6c010fc0",
   "metadata": {},
   "outputs": [
    {
     "name": "stdout",
     "output_type": "stream",
     "text": [
      "Enter a string: welcome\n",
      "The positive index of w is 0\n",
      "The positive index of e is 1\n",
      "The positive index of l is 2\n",
      "The positive index of c is 3\n",
      "The positive index of o is 4\n",
      "The positive index of m is 5\n",
      "The positive index of e is 6\n"
     ]
    }
   ],
   "source": [
    "s=input('Enter a string: ')\n",
    "for i in range(len(s)):\n",
    "    print(f'The positive index of {s[i]} is {i}')"
   ]
  },
  {
   "cell_type": "markdown",
   "id": "abc05ebf",
   "metadata": {},
   "source": [
    "**6. wap ask the user iterate using a string**\n",
    "\n",
    "**print the negative index of w is -7**\n",
    "\n",
    "**print the negative index of e is -6**"
   ]
  },
  {
   "cell_type": "code",
   "execution_count": 24,
   "id": "bd8e30cb",
   "metadata": {},
   "outputs": [
    {
     "name": "stdout",
     "output_type": "stream",
     "text": [
      "Enter a string: welcome\n",
      "The negative index of w is -7\n",
      "The negative index of e is -6\n",
      "The negative index of l is -5\n",
      "The negative index of c is -4\n",
      "The negative index of o is -3\n",
      "The negative index of m is -2\n",
      "The negative index of e is -1\n"
     ]
    }
   ],
   "source": [
    "s=input('Enter a string: ')\n",
    "n=len(s)\n",
    "for i in range(n):\n",
    "    print(f'The negative index of {s[i]} is {i-n}')"
   ]
  },
  {
   "cell_type": "markdown",
   "id": "3c647877",
   "metadata": {},
   "source": [
    "**7. wap ask the user iterate using a string**\n",
    "\n",
    "**print the positive index of is o and the negative index is -7 for w**\n"
   ]
  },
  {
   "cell_type": "code",
   "execution_count": 25,
   "id": "fe414291",
   "metadata": {},
   "outputs": [
    {
     "name": "stdout",
     "output_type": "stream",
     "text": [
      "Enter a string: welcome\n",
      "The positive index is 0 and the negative index is -7 for w\n",
      "The positive index is 1 and the negative index is -6 for e\n",
      "The positive index is 2 and the negative index is -5 for l\n",
      "The positive index is 3 and the negative index is -4 for c\n",
      "The positive index is 4 and the negative index is -3 for o\n",
      "The positive index is 5 and the negative index is -2 for m\n",
      "The positive index is 6 and the negative index is -1 for e\n"
     ]
    }
   ],
   "source": [
    "s=input('Enter a string: ')\n",
    "n=len(s)\n",
    "for i in range(n):\n",
    "    print(f'The positive index is {i} and the negative index is {i-n} for {s[i]}')"
   ]
  },
  {
   "cell_type": "markdown",
   "id": "35b77b69",
   "metadata": {},
   "source": [
    "**8. wap ask the user get the index of each 'a' in a given string**\n",
    "\n",
    "**s= 'hai how are you i am good'**\n"
   ]
  },
  {
   "cell_type": "code",
   "execution_count": 27,
   "id": "b07cd2c1",
   "metadata": {},
   "outputs": [
    {
     "name": "stdout",
     "output_type": "stream",
     "text": [
      "1 8 18 "
     ]
    }
   ],
   "source": [
    "s='hai how are you i am good'\n",
    "for i in range(len(s)):\n",
    "    if s[i] == 'a':\n",
    "        print(i,end=' ')"
   ]
  },
  {
   "cell_type": "markdown",
   "id": "a8ef6f21",
   "metadata": {},
   "source": [
    "**9. wap ask the user to get count of number of 'a' in a given string using for range**"
   ]
  },
  {
   "cell_type": "code",
   "execution_count": 28,
   "id": "4401868e",
   "metadata": {},
   "outputs": [
    {
     "name": "stdout",
     "output_type": "stream",
     "text": [
      "3\n"
     ]
    }
   ],
   "source": [
    "s='hai how are you i am good'\n",
    "count=0\n",
    "for i in range(len(s)):\n",
    "    if s[i] == 'a':\n",
    "        count+=1\n",
    "print(count)"
   ]
  },
  {
   "cell_type": "markdown",
   "id": "7aedcd6f",
   "metadata": {},
   "source": [
    "**10. wap ask the user get the sum of all index numbers of 'a'**"
   ]
  },
  {
   "cell_type": "code",
   "execution_count": 29,
   "id": "fdf037d5",
   "metadata": {},
   "outputs": [
    {
     "name": "stdout",
     "output_type": "stream",
     "text": [
      "27\n"
     ]
    }
   ],
   "source": [
    "s='hai how are you i am good'\n",
    "s1=0\n",
    "for i in range(len(s)):\n",
    "    if s[i] == 'a':\n",
    "        s1=s1+i\n",
    "print(s1)"
   ]
  },
  {
   "cell_type": "markdown",
   "id": "e2d87201",
   "metadata": {},
   "source": [
    "**11. wap ask the user get the vowels from a given string using for-range**"
   ]
  },
  {
   "cell_type": "code",
   "execution_count": 32,
   "id": "8b5208e1",
   "metadata": {},
   "outputs": [
    {
     "name": "stdout",
     "output_type": "stream",
     "text": [
      "a\n",
      "i\n",
      "o\n",
      "a\n",
      "e\n",
      "o\n",
      "u\n",
      "i\n",
      "a\n",
      "o\n",
      "o\n"
     ]
    }
   ],
   "source": [
    "s='hai how are you i am good'\n",
    "s1='aeiou'\n",
    "for i in range(len(s)):\n",
    "    if s[i] in s1:\n",
    "        print(s[i])\n"
   ]
  },
  {
   "cell_type": "code",
   "execution_count": 34,
   "id": "1e804db8",
   "metadata": {},
   "outputs": [
    {
     "name": "stdout",
     "output_type": "stream",
     "text": [
      "aioeu\n"
     ]
    }
   ],
   "source": [
    "#unique vowels\n",
    "s='hai how are you i am good'\n",
    "s1='aeiou'\n",
    "s2=''\n",
    "for i in range(len(s)):\n",
    "    if s[i] in s1 and s[i] not in s2:\n",
    "        s2=s2+s[i]\n",
    "print(s2)"
   ]
  },
  {
   "cell_type": "markdown",
   "id": "82697f2a",
   "metadata": {},
   "source": [
    "**12. string1='ola ola ola'**\n",
    "\n",
    "**number of ola = 3**"
   ]
  },
  {
   "cell_type": "code",
   "execution_count": 40,
   "id": "6da926e3",
   "metadata": {},
   "outputs": [
    {
     "name": "stdout",
     "output_type": "stream",
     "text": [
      "['ola', 'ola', 'ola']\n",
      "number of ola : 3\n"
     ]
    }
   ],
   "source": [
    "string1='ola ola ola'\n",
    "string1=string1.split(' ')\n",
    "print(string1)\n",
    "print(f'number of ola : {len(string1)}')"
   ]
  },
  {
   "cell_type": "code",
   "execution_count": 43,
   "id": "435337e2",
   "metadata": {},
   "outputs": [
    {
     "name": "stdout",
     "output_type": "stream",
     "text": [
      "['ola', 'ola', 'ola']\n",
      "number of ola : 3\n"
     ]
    }
   ],
   "source": [
    "string1='ola ola ola'\n",
    "count=0\n",
    "string1=string1.split(' ')\n",
    "print(string1)\n",
    "for i in range(len(string1)):\n",
    "    if string1[i] == 'ola':\n",
    "        count+=1\n",
    "print(f'number of ola : {count}')"
   ]
  },
  {
   "cell_type": "code",
   "execution_count": 4,
   "id": "9281c21b",
   "metadata": {},
   "outputs": [
    {
     "name": "stdout",
     "output_type": "stream",
     "text": [
      "number of ola: 3\n"
     ]
    }
   ],
   "source": [
    "str1='ola ola ola'\n",
    "print('number of ola:',str1.count('ola'))"
   ]
  },
  {
   "cell_type": "code",
   "execution_count": 115,
   "id": "f4a111a2",
   "metadata": {},
   "outputs": [
    {
     "data": {
      "text/plain": [
       "11"
      ]
     },
     "execution_count": 115,
     "metadata": {},
     "output_type": "execute_result"
    }
   ],
   "source": [
    "str1='ola ola ola'\n",
    "len(str1)"
   ]
  },
  {
   "cell_type": "code",
   "execution_count": 116,
   "id": "f370a51e",
   "metadata": {},
   "outputs": [
    {
     "name": "stdout",
     "output_type": "stream",
     "text": [
      "Number of ola:  3\n"
     ]
    }
   ],
   "source": [
    "s='ola ola ola'\n",
    "count=0\n",
    "for i in range(len(s)-2):\n",
    "    s1=s[i]+s[i+1]+s[i+2]\n",
    "    if s1 == 'ola':\n",
    "        count+=1\n",
    "print('Number of ola: ',count)\n",
    "    "
   ]
  },
  {
   "cell_type": "markdown",
   "id": "7c64e276",
   "metadata": {},
   "source": [
    "**13. string1= 'hello hello hello how how how how are you'**\n",
    "\n",
    "**what is the most repeated word : how**"
   ]
  },
  {
   "cell_type": "code",
   "execution_count": 118,
   "id": "7a09a439",
   "metadata": {},
   "outputs": [
    {
     "name": "stdout",
     "output_type": "stream",
     "text": [
      "how\n"
     ]
    }
   ],
   "source": [
    "s='hello hello hello how how how how are you'\n",
    "c=c1=c2=c3=0\n",
    "for i in range(len(s)-2):\n",
    "    s1=s[i]+s[i+1]+s[i+2]\n",
    "    if s1 == 'hello':\n",
    "        c+=1\n",
    "    elif s1 == 'how':\n",
    "        c1+=1\n",
    "    elif s1 == 'are':\n",
    "        c2+=1\n",
    "    elif s1=='you':\n",
    "        c3+=1\n",
    "if c>=c1 and c>c2 and c>c3:\n",
    "    print('hello')\n",
    "elif c1>c2 and c1>c3:\n",
    "    print('how')\n",
    "elif c2>c3:\n",
    "    print('are')\n",
    "else:\n",
    "    print('you')"
   ]
  },
  {
   "cell_type": "markdown",
   "id": "337b7be7",
   "metadata": {},
   "source": [
    "**14. string1='hellooooo how aree u'**\n",
    "\n",
    "**what is the maximum length of word: hellooooo**\n",
    "    \n",
    "**what is the minimum length of word: u**"
   ]
  },
  {
   "cell_type": "code",
   "execution_count": null,
   "id": "73e78cc7",
   "metadata": {},
   "outputs": [],
   "source": [
    "s='hellooooo how aree u'\n",
    "\n",
    "        \n",
    "        \n",
    "        \n",
    "        \n",
    "    "
   ]
  },
  {
   "cell_type": "markdown",
   "id": "5f686ed1",
   "metadata": {},
   "source": [
    "**15.without using sorted sort the letters**\n",
    "\n",
    "**string='hello'**"
   ]
  },
  {
   "cell_type": "code",
   "execution_count": 1,
   "id": "56243e44",
   "metadata": {},
   "outputs": [
    {
     "name": "stdout",
     "output_type": "stream",
     "text": [
      "eell\n"
     ]
    }
   ],
   "source": []
  },
  {
   "cell_type": "markdown",
   "id": "2374695a",
   "metadata": {},
   "source": [
    "**slice**\n",
    "\n",
    "- we can cut into pieces\n",
    "\n",
    "- similiar to range concept\n",
    "\n",
    "- in range we take start,stop,step here also same"
   ]
  },
  {
   "cell_type": "code",
   "execution_count": 5,
   "id": "81093bd5",
   "metadata": {},
   "outputs": [
    {
     "data": {
      "text/plain": [
       "'i how'"
      ]
     },
     "execution_count": 5,
     "metadata": {},
     "output_type": "execute_result"
    }
   ],
   "source": [
    "str1='hai how are you'\n",
    "str1[2:7]"
   ]
  },
  {
   "cell_type": "markdown",
   "id": "e9c26d57",
   "metadata": {},
   "source": [
    "**str1[start:stop:step]**"
   ]
  },
  {
   "cell_type": "markdown",
   "id": "cdcae718",
   "metadata": {},
   "source": [
    "**case-1:**\n",
    "    \n",
    "- str1[start:]\n",
    "\n",
    "- default start value= start only\n",
    "\n",
    "- last value = last only\n",
    "\n",
    "- step nothing mentioned means,it is a positive direction and increment by 1"
   ]
  },
  {
   "cell_type": "code",
   "execution_count": 6,
   "id": "4e962c9f",
   "metadata": {},
   "outputs": [
    {
     "data": {
      "text/plain": [
       "'ow are you'"
      ]
     },
     "execution_count": 6,
     "metadata": {},
     "output_type": "execute_result"
    }
   ],
   "source": [
    "str1[5:]"
   ]
  },
  {
   "cell_type": "code",
   "execution_count": 7,
   "id": "e7efa4d9",
   "metadata": {},
   "outputs": [
    {
     "data": {
      "text/plain": [
       "''"
      ]
     },
     "execution_count": 7,
     "metadata": {},
     "output_type": "execute_result"
    }
   ],
   "source": [
    "str1[100:]"
   ]
  },
  {
   "cell_type": "code",
   "execution_count": 12,
   "id": "ae937249",
   "metadata": {},
   "outputs": [
    {
     "data": {
      "text/plain": [
       "'re you'"
      ]
     },
     "execution_count": 12,
     "metadata": {},
     "output_type": "execute_result"
    }
   ],
   "source": [
    "str1[-6:]"
   ]
  },
  {
   "cell_type": "code",
   "execution_count": 9,
   "id": "bb4aba14",
   "metadata": {},
   "outputs": [
    {
     "data": {
      "text/plain": [
       "'hai how are you'"
      ]
     },
     "execution_count": 9,
     "metadata": {},
     "output_type": "execute_result"
    }
   ],
   "source": [
    "str1[-30:]"
   ]
  },
  {
   "cell_type": "markdown",
   "id": "97035add",
   "metadata": {},
   "source": [
    "**case-2:**\n",
    "    \n",
    "- str1[start:stop]\n"
   ]
  },
  {
   "cell_type": "code",
   "execution_count": 17,
   "id": "f1cdf3bd",
   "metadata": {},
   "outputs": [
    {
     "data": {
      "text/plain": [
       "'ow are y'"
      ]
     },
     "execution_count": 17,
     "metadata": {},
     "output_type": "execute_result"
    }
   ],
   "source": [
    "str1[5:-2]"
   ]
  },
  {
   "cell_type": "code",
   "execution_count": 18,
   "id": "b7da7473",
   "metadata": {},
   "outputs": [
    {
     "data": {
      "text/plain": [
       "''"
      ]
     },
     "execution_count": 18,
     "metadata": {},
     "output_type": "execute_result"
    }
   ],
   "source": [
    "str1[5:-20]"
   ]
  },
  {
   "cell_type": "code",
   "execution_count": 19,
   "id": "02995bf4",
   "metadata": {},
   "outputs": [
    {
     "data": {
      "text/plain": [
       "''"
      ]
     },
     "execution_count": 19,
     "metadata": {},
     "output_type": "execute_result"
    }
   ],
   "source": [
    "str1[5:-14]"
   ]
  },
  {
   "cell_type": "code",
   "execution_count": 20,
   "id": "560ee1e4",
   "metadata": {},
   "outputs": [
    {
     "data": {
      "text/plain": [
       "'how are'"
      ]
     },
     "execution_count": 20,
     "metadata": {},
     "output_type": "execute_result"
    }
   ],
   "source": [
    "str1[4:-4]"
   ]
  },
  {
   "cell_type": "markdown",
   "id": "5faff313",
   "metadata": {},
   "source": [
    "**truncation behaviour**"
   ]
  },
  {
   "cell_type": "code",
   "execution_count": 21,
   "id": "af2d0086",
   "metadata": {},
   "outputs": [
    {
     "data": {
      "text/plain": [
       "'ow are you'"
      ]
     },
     "execution_count": 21,
     "metadata": {},
     "output_type": "execute_result"
    }
   ],
   "source": [
    "str1[5:100]"
   ]
  },
  {
   "cell_type": "markdown",
   "id": "3bf01982",
   "metadata": {},
   "source": [
    "- whenever string range is limited,but we provided unlimited number then string will truncate till the range we have\n",
    "\n",
    "- in the above example our range is 15 letters but we provided 500 then 500 will truncate to 15 letters only"
   ]
  },
  {
   "cell_type": "markdown",
   "id": "5a6d5b50",
   "metadata": {},
   "source": [
    "**case-3**\n",
    "\n",
    "- str1[start:stop:step]"
   ]
  },
  {
   "cell_type": "code",
   "execution_count": 25,
   "id": "bb2b5b89",
   "metadata": {},
   "outputs": [
    {
     "data": {
      "text/plain": [
       "'ihwaey'"
      ]
     },
     "execution_count": 25,
     "metadata": {},
     "output_type": "execute_result"
    }
   ],
   "source": [
    "str1[2:13:2]\n",
    "\n"
   ]
  },
  {
   "cell_type": "code",
   "execution_count": 26,
   "id": "f01f4ae2",
   "metadata": {},
   "outputs": [
    {
     "data": {
      "text/plain": [
       "''"
      ]
     },
     "execution_count": 26,
     "metadata": {},
     "output_type": "execute_result"
    }
   ],
   "source": [
    "str1[2:13:-2]\n"
   ]
  },
  {
   "cell_type": "code",
   "execution_count": 27,
   "id": "9bfc0ca5",
   "metadata": {},
   "outputs": [
    {
     "data": {
      "text/plain": [
       "''"
      ]
     },
     "execution_count": 27,
     "metadata": {},
     "output_type": "execute_result"
    }
   ],
   "source": [
    "str1[2:-13:2]"
   ]
  },
  {
   "cell_type": "code",
   "execution_count": 28,
   "id": "9bffd046",
   "metadata": {},
   "outputs": [
    {
     "data": {
      "text/plain": [
       "''"
      ]
     },
     "execution_count": 28,
     "metadata": {},
     "output_type": "execute_result"
    }
   ],
   "source": [
    "str1[-2:13:2]\n"
   ]
  },
  {
   "cell_type": "code",
   "execution_count": 29,
   "id": "b1b12c46",
   "metadata": {},
   "outputs": [
    {
     "data": {
      "text/plain": [
       "''"
      ]
     },
     "execution_count": 29,
     "metadata": {},
     "output_type": "execute_result"
    }
   ],
   "source": [
    "str1[2:-13:-2]"
   ]
  },
  {
   "cell_type": "code",
   "execution_count": 30,
   "id": "dbd33f6f",
   "metadata": {},
   "outputs": [
    {
     "data": {
      "text/plain": [
       "''"
      ]
     },
     "execution_count": 30,
     "metadata": {},
     "output_type": "execute_result"
    }
   ],
   "source": [
    "str1[-2:-13:2]"
   ]
  },
  {
   "cell_type": "code",
   "execution_count": 31,
   "id": "390bc311",
   "metadata": {},
   "outputs": [
    {
     "data": {
      "text/plain": [
       "''"
      ]
     },
     "execution_count": 31,
     "metadata": {},
     "output_type": "execute_result"
    }
   ],
   "source": [
    "str1[-2:13:-2]"
   ]
  },
  {
   "cell_type": "code",
   "execution_count": 32,
   "id": "452e4f5b",
   "metadata": {},
   "outputs": [
    {
     "data": {
      "text/plain": [
       "'o r o '"
      ]
     },
     "execution_count": 32,
     "metadata": {},
     "output_type": "execute_result"
    }
   ],
   "source": [
    "str1[-2:-13:-2]"
   ]
  },
  {
   "cell_type": "code",
   "execution_count": 33,
   "id": "9497a29f",
   "metadata": {},
   "outputs": [
    {
     "data": {
      "text/plain": [
       "''"
      ]
     },
     "execution_count": 33,
     "metadata": {},
     "output_type": "execute_result"
    }
   ],
   "source": [
    "str1[13:2:2]"
   ]
  },
  {
   "cell_type": "code",
   "execution_count": 34,
   "id": "bfbf928f",
   "metadata": {
    "scrolled": true
   },
   "outputs": [
    {
     "data": {
      "text/plain": [
       "''"
      ]
     },
     "execution_count": 34,
     "metadata": {},
     "output_type": "execute_result"
    }
   ],
   "source": [
    "str1[-13:2:2]"
   ]
  },
  {
   "cell_type": "code",
   "execution_count": null,
   "id": "14e3b72b",
   "metadata": {},
   "outputs": [],
   "source": [
    "-18 -17 -16 -15 -14 -13 -12 -11 -10 -9 -8 -7 -6 -5 -4 -3 -2 -1\n",
    " s   t   r   i   n   g   s        a  r  e     a  r  r  a  y  s\n",
    " 0   1   2   3   4   5   6   7   8   9  10 11 12 13 14 15 16 17"
   ]
  },
  {
   "cell_type": "code",
   "execution_count": 69,
   "id": "4d4f8706",
   "metadata": {},
   "outputs": [],
   "source": [
    "s='strings are arrays'"
   ]
  },
  {
   "cell_type": "code",
   "execution_count": 70,
   "id": "6d79fd6b",
   "metadata": {},
   "outputs": [
    {
     "data": {
      "text/plain": [
       "'strings are arrays'"
      ]
     },
     "execution_count": 70,
     "metadata": {},
     "output_type": "execute_result"
    }
   ],
   "source": [
    "s[0:]"
   ]
  },
  {
   "cell_type": "code",
   "execution_count": 71,
   "id": "ee412bb9",
   "metadata": {},
   "outputs": [
    {
     "data": {
      "text/plain": [
       "'e arrays'"
      ]
     },
     "execution_count": 71,
     "metadata": {},
     "output_type": "execute_result"
    }
   ],
   "source": [
    "s[10:]"
   ]
  },
  {
   "cell_type": "code",
   "execution_count": 72,
   "id": "80642dc2",
   "metadata": {},
   "outputs": [
    {
     "data": {
      "text/plain": [
       "'are arrays'"
      ]
     },
     "execution_count": 72,
     "metadata": {},
     "output_type": "execute_result"
    }
   ],
   "source": [
    "s[-10:]"
   ]
  },
  {
   "cell_type": "code",
   "execution_count": 73,
   "id": "4e4da9c3",
   "metadata": {},
   "outputs": [
    {
     "data": {
      "text/plain": [
       "'s'"
      ]
     },
     "execution_count": 73,
     "metadata": {},
     "output_type": "execute_result"
    }
   ],
   "source": [
    "s[17:]"
   ]
  },
  {
   "cell_type": "code",
   "execution_count": 74,
   "id": "934dd640",
   "metadata": {},
   "outputs": [
    {
     "data": {
      "text/plain": [
       "'s'"
      ]
     },
     "execution_count": 74,
     "metadata": {},
     "output_type": "execute_result"
    }
   ],
   "source": [
    "s[-1:]"
   ]
  },
  {
   "cell_type": "code",
   "execution_count": 76,
   "id": "3e83df5c",
   "metadata": {},
   "outputs": [
    {
     "data": {
      "text/plain": [
       "''"
      ]
     },
     "execution_count": 76,
     "metadata": {},
     "output_type": "execute_result"
    }
   ],
   "source": [
    "s[20:]"
   ]
  },
  {
   "cell_type": "code",
   "execution_count": 77,
   "id": "d27ed621",
   "metadata": {},
   "outputs": [
    {
     "data": {
      "text/plain": [
       "'strings are arrays'"
      ]
     },
     "execution_count": 77,
     "metadata": {},
     "output_type": "execute_result"
    }
   ],
   "source": [
    "s[-20:]"
   ]
  },
  {
   "cell_type": "code",
   "execution_count": null,
   "id": "7ef40fb5",
   "metadata": {},
   "outputs": [],
   "source": [
    "-18 -17 -16 -15 -14 -13 -12 -11 -10 -9 -8 -7 -6 -5 -4 -3 -2 -1\n",
    " s   t   r   i   n   g   s        a  r  e     a  r  r  a  y  s\n",
    " 0   1   2   3   4   5   6   7   8   9  10 11 12 13 14 15 16 17"
   ]
  },
  {
   "cell_type": "code",
   "execution_count": 78,
   "id": "748535bc",
   "metadata": {},
   "outputs": [
    {
     "data": {
      "text/plain": [
       "'strings a'"
      ]
     },
     "execution_count": 78,
     "metadata": {},
     "output_type": "execute_result"
    }
   ],
   "source": [
    "s[:9]"
   ]
  },
  {
   "cell_type": "code",
   "execution_count": 79,
   "id": "d94869ea",
   "metadata": {},
   "outputs": [
    {
     "data": {
      "text/plain": [
       "'stri'"
      ]
     },
     "execution_count": 79,
     "metadata": {},
     "output_type": "execute_result"
    }
   ],
   "source": [
    "s[:-14]"
   ]
  },
  {
   "cell_type": "code",
   "execution_count": 80,
   "id": "d94c7588",
   "metadata": {},
   "outputs": [
    {
     "data": {
      "text/plain": [
       "'strings are arrays'"
      ]
     },
     "execution_count": 80,
     "metadata": {},
     "output_type": "execute_result"
    }
   ],
   "source": [
    "s[:100]"
   ]
  },
  {
   "cell_type": "code",
   "execution_count": 81,
   "id": "7eaddddc",
   "metadata": {},
   "outputs": [
    {
     "data": {
      "text/plain": [
       "''"
      ]
     },
     "execution_count": 81,
     "metadata": {},
     "output_type": "execute_result"
    }
   ],
   "source": [
    "s[:-100]"
   ]
  },
  {
   "cell_type": "code",
   "execution_count": 82,
   "id": "f932b795",
   "metadata": {},
   "outputs": [
    {
     "data": {
      "text/plain": [
       "'strings are '"
      ]
     },
     "execution_count": 82,
     "metadata": {},
     "output_type": "execute_result"
    }
   ],
   "source": [
    "s[:-6]"
   ]
  },
  {
   "cell_type": "code",
   "execution_count": null,
   "id": "31b2f09f",
   "metadata": {},
   "outputs": [],
   "source": [
    "-18 -17 -16 -15 -14 -13 -12 -11 -10 -9 -8 -7 -6 -5 -4 -3 -2 -1\n",
    " s   t   r   i   n   g   s        a  r  e     a  r  r  a  y  s\n",
    " 0   1   2   3   4   5   6   7   8   9  10 11 12 13 14 15 16 17"
   ]
  },
  {
   "cell_type": "code",
   "execution_count": 83,
   "id": "1eaf7da1",
   "metadata": {},
   "outputs": [
    {
     "data": {
      "text/plain": [
       "'gs are arr'"
      ]
     },
     "execution_count": 83,
     "metadata": {},
     "output_type": "execute_result"
    }
   ],
   "source": [
    "s[5:15]"
   ]
  },
  {
   "cell_type": "code",
   "execution_count": 84,
   "id": "03d6f9ca",
   "metadata": {},
   "outputs": [
    {
     "data": {
      "text/plain": [
       "''"
      ]
     },
     "execution_count": 84,
     "metadata": {},
     "output_type": "execute_result"
    }
   ],
   "source": [
    "s[5:-15]"
   ]
  },
  {
   "cell_type": "code",
   "execution_count": 85,
   "id": "8a00a49e",
   "metadata": {},
   "outputs": [
    {
     "data": {
      "text/plain": [
       "''"
      ]
     },
     "execution_count": 85,
     "metadata": {},
     "output_type": "execute_result"
    }
   ],
   "source": [
    "s[-5:-15]"
   ]
  },
  {
   "cell_type": "code",
   "execution_count": 86,
   "id": "85163be2",
   "metadata": {},
   "outputs": [
    {
     "data": {
      "text/plain": [
       "'rr'"
      ]
     },
     "execution_count": 86,
     "metadata": {},
     "output_type": "execute_result"
    }
   ],
   "source": [
    "s[-5:15]"
   ]
  },
  {
   "cell_type": "markdown",
   "id": "432026af",
   "metadata": {},
   "source": [
    "# methods"
   ]
  },
  {
   "cell_type": "markdown",
   "id": "dfd2f2a2",
   "metadata": {},
   "source": [
    "- strings ,lists, tuples, set,dictionary every data type has its own methods\n",
    "\n",
    "- in order to see the methods fro the packages we are importing the methods and using dir\n",
    "    \n",
    "- the similar way in order to see the methods of string, we need to apply dir only"
   ]
  },
  {
   "cell_type": "code",
   "execution_count": 43,
   "id": "eb782767",
   "metadata": {},
   "outputs": [
    {
     "data": {
      "text/plain": [
       "['__add__',\n",
       " '__class__',\n",
       " '__contains__',\n",
       " '__delattr__',\n",
       " '__dir__',\n",
       " '__doc__',\n",
       " '__eq__',\n",
       " '__format__',\n",
       " '__ge__',\n",
       " '__getattribute__',\n",
       " '__getitem__',\n",
       " '__getnewargs__',\n",
       " '__gt__',\n",
       " '__hash__',\n",
       " '__init__',\n",
       " '__init_subclass__',\n",
       " '__iter__',\n",
       " '__le__',\n",
       " '__len__',\n",
       " '__lt__',\n",
       " '__mod__',\n",
       " '__mul__',\n",
       " '__ne__',\n",
       " '__new__',\n",
       " '__reduce__',\n",
       " '__reduce_ex__',\n",
       " '__repr__',\n",
       " '__rmod__',\n",
       " '__rmul__',\n",
       " '__setattr__',\n",
       " '__sizeof__',\n",
       " '__str__',\n",
       " '__subclasshook__',\n",
       " 'capitalize',\n",
       " 'casefold',\n",
       " 'center',\n",
       " 'count',\n",
       " 'encode',\n",
       " 'endswith',\n",
       " 'expandtabs',\n",
       " 'find',\n",
       " 'format',\n",
       " 'format_map',\n",
       " 'index',\n",
       " 'isalnum',\n",
       " 'isalpha',\n",
       " 'isascii',\n",
       " 'isdecimal',\n",
       " 'isdigit',\n",
       " 'isidentifier',\n",
       " 'islower',\n",
       " 'isnumeric',\n",
       " 'isprintable',\n",
       " 'isspace',\n",
       " 'istitle',\n",
       " 'isupper',\n",
       " 'join',\n",
       " 'ljust',\n",
       " 'lower',\n",
       " 'lstrip',\n",
       " 'maketrans',\n",
       " 'partition',\n",
       " 'removeprefix',\n",
       " 'removesuffix',\n",
       " 'replace',\n",
       " 'rfind',\n",
       " 'rindex',\n",
       " 'rjust',\n",
       " 'rpartition',\n",
       " 'rsplit',\n",
       " 'rstrip',\n",
       " 'split',\n",
       " 'splitlines',\n",
       " 'startswith',\n",
       " 'strip',\n",
       " 'swapcase',\n",
       " 'title',\n",
       " 'translate',\n",
       " 'upper',\n",
       " 'zfill']"
      ]
     },
     "execution_count": 43,
     "metadata": {},
     "output_type": "execute_result"
    }
   ],
   "source": [
    "dir('')"
   ]
  },
  {
   "cell_type": "code",
   "execution_count": 44,
   "id": "c3c21597",
   "metadata": {},
   "outputs": [
    {
     "data": {
      "text/plain": [
       "['__add__',\n",
       " '__class__',\n",
       " '__contains__',\n",
       " '__delattr__',\n",
       " '__dir__',\n",
       " '__doc__',\n",
       " '__eq__',\n",
       " '__format__',\n",
       " '__ge__',\n",
       " '__getattribute__',\n",
       " '__getitem__',\n",
       " '__getnewargs__',\n",
       " '__gt__',\n",
       " '__hash__',\n",
       " '__init__',\n",
       " '__init_subclass__',\n",
       " '__iter__',\n",
       " '__le__',\n",
       " '__len__',\n",
       " '__lt__',\n",
       " '__mod__',\n",
       " '__mul__',\n",
       " '__ne__',\n",
       " '__new__',\n",
       " '__reduce__',\n",
       " '__reduce_ex__',\n",
       " '__repr__',\n",
       " '__rmod__',\n",
       " '__rmul__',\n",
       " '__setattr__',\n",
       " '__sizeof__',\n",
       " '__str__',\n",
       " '__subclasshook__',\n",
       " 'capitalize',\n",
       " 'casefold',\n",
       " 'center',\n",
       " 'count',\n",
       " 'encode',\n",
       " 'endswith',\n",
       " 'expandtabs',\n",
       " 'find',\n",
       " 'format',\n",
       " 'format_map',\n",
       " 'index',\n",
       " 'isalnum',\n",
       " 'isalpha',\n",
       " 'isascii',\n",
       " 'isdecimal',\n",
       " 'isdigit',\n",
       " 'isidentifier',\n",
       " 'islower',\n",
       " 'isnumeric',\n",
       " 'isprintable',\n",
       " 'isspace',\n",
       " 'istitle',\n",
       " 'isupper',\n",
       " 'join',\n",
       " 'ljust',\n",
       " 'lower',\n",
       " 'lstrip',\n",
       " 'maketrans',\n",
       " 'partition',\n",
       " 'removeprefix',\n",
       " 'removesuffix',\n",
       " 'replace',\n",
       " 'rfind',\n",
       " 'rindex',\n",
       " 'rjust',\n",
       " 'rpartition',\n",
       " 'rsplit',\n",
       " 'rstrip',\n",
       " 'split',\n",
       " 'splitlines',\n",
       " 'startswith',\n",
       " 'strip',\n",
       " 'swapcase',\n",
       " 'title',\n",
       " 'translate',\n",
       " 'upper',\n",
       " 'zfill']"
      ]
     },
     "execution_count": 44,
     "metadata": {},
     "output_type": "execute_result"
    }
   ],
   "source": [
    "dir('hai')"
   ]
  },
  {
   "cell_type": "code",
   "execution_count": 45,
   "id": "7ddfa718",
   "metadata": {},
   "outputs": [
    {
     "data": {
      "text/plain": [
       "['__add__',\n",
       " '__class__',\n",
       " '__contains__',\n",
       " '__delattr__',\n",
       " '__dir__',\n",
       " '__doc__',\n",
       " '__eq__',\n",
       " '__format__',\n",
       " '__ge__',\n",
       " '__getattribute__',\n",
       " '__getitem__',\n",
       " '__getnewargs__',\n",
       " '__gt__',\n",
       " '__hash__',\n",
       " '__init__',\n",
       " '__init_subclass__',\n",
       " '__iter__',\n",
       " '__le__',\n",
       " '__len__',\n",
       " '__lt__',\n",
       " '__mod__',\n",
       " '__mul__',\n",
       " '__ne__',\n",
       " '__new__',\n",
       " '__reduce__',\n",
       " '__reduce_ex__',\n",
       " '__repr__',\n",
       " '__rmod__',\n",
       " '__rmul__',\n",
       " '__setattr__',\n",
       " '__sizeof__',\n",
       " '__str__',\n",
       " '__subclasshook__',\n",
       " 'capitalize',\n",
       " 'casefold',\n",
       " 'center',\n",
       " 'count',\n",
       " 'encode',\n",
       " 'endswith',\n",
       " 'expandtabs',\n",
       " 'find',\n",
       " 'format',\n",
       " 'format_map',\n",
       " 'index',\n",
       " 'isalnum',\n",
       " 'isalpha',\n",
       " 'isascii',\n",
       " 'isdecimal',\n",
       " 'isdigit',\n",
       " 'isidentifier',\n",
       " 'islower',\n",
       " 'isnumeric',\n",
       " 'isprintable',\n",
       " 'isspace',\n",
       " 'istitle',\n",
       " 'isupper',\n",
       " 'join',\n",
       " 'ljust',\n",
       " 'lower',\n",
       " 'lstrip',\n",
       " 'maketrans',\n",
       " 'partition',\n",
       " 'removeprefix',\n",
       " 'removesuffix',\n",
       " 'replace',\n",
       " 'rfind',\n",
       " 'rindex',\n",
       " 'rjust',\n",
       " 'rpartition',\n",
       " 'rsplit',\n",
       " 'rstrip',\n",
       " 'split',\n",
       " 'splitlines',\n",
       " 'startswith',\n",
       " 'strip',\n",
       " 'swapcase',\n",
       " 'title',\n",
       " 'translate',\n",
       " 'upper',\n",
       " 'zfill']"
      ]
     },
     "execution_count": 45,
     "metadata": {},
     "output_type": "execute_result"
    }
   ],
   "source": [
    "str1='hai'\n",
    "dir(str1)"
   ]
  },
  {
   "cell_type": "code",
   "execution_count": 48,
   "id": "26f96c66",
   "metadata": {},
   "outputs": [],
   "source": [
    "str1='hai How aRe you'"
   ]
  },
  {
   "cell_type": "code",
   "execution_count": 50,
   "id": "fd04f212",
   "metadata": {},
   "outputs": [
    {
     "data": {
      "text/plain": [
       "'HAI HOW ARE YOU'"
      ]
     },
     "execution_count": 50,
     "metadata": {},
     "output_type": "execute_result"
    }
   ],
   "source": [
    "str1.upper()"
   ]
  },
  {
   "cell_type": "code",
   "execution_count": 51,
   "id": "6dabf625",
   "metadata": {},
   "outputs": [
    {
     "data": {
      "text/plain": [
       "'hai how are you'"
      ]
     },
     "execution_count": 51,
     "metadata": {},
     "output_type": "execute_result"
    }
   ],
   "source": [
    "str1.lower()"
   ]
  },
  {
   "cell_type": "code",
   "execution_count": 52,
   "id": "6720897a",
   "metadata": {},
   "outputs": [
    {
     "data": {
      "text/plain": [
       "'Hai how are you'"
      ]
     },
     "execution_count": 52,
     "metadata": {},
     "output_type": "execute_result"
    }
   ],
   "source": [
    "str1.capitalize()"
   ]
  },
  {
   "cell_type": "code",
   "execution_count": 53,
   "id": "fcc6cc99",
   "metadata": {},
   "outputs": [
    {
     "data": {
      "text/plain": [
       "'hai how are you'"
      ]
     },
     "execution_count": 53,
     "metadata": {},
     "output_type": "execute_result"
    }
   ],
   "source": [
    "str1.casefold()"
   ]
  },
  {
   "cell_type": "code",
   "execution_count": 54,
   "id": "be1ac551",
   "metadata": {
    "scrolled": true
   },
   "outputs": [
    {
     "data": {
      "text/plain": [
       "'Hai How Are You'"
      ]
     },
     "execution_count": 54,
     "metadata": {},
     "output_type": "execute_result"
    }
   ],
   "source": [
    "str1.title()"
   ]
  },
  {
   "cell_type": "markdown",
   "id": "22a8de5c",
   "metadata": {},
   "source": [
    "**Q. without using methods print the output same as title**"
   ]
  },
  {
   "cell_type": "code",
   "execution_count": null,
   "id": "33ccab8d",
   "metadata": {},
   "outputs": [],
   "source": [
    "s='hai how are you'\n",
    "s1=''\n",
    "for i in range(len(s)):\n",
    "    if i==0 and ord(s[i])>=97 and ord(s[i])<=122:\n",
    "        s1=s1+chr(ord(s[i])-32)\n",
    "    elif s[i]==' ':\n",
    "        s1=s1+chr(ord(s[i+1])-32)\n",
    "    elif s[i]==' ' and ord(s[i+1]) >=97 and ord(s[i+1])<=122"
   ]
  },
  {
   "cell_type": "code",
   "execution_count": 57,
   "id": "f2711489",
   "metadata": {},
   "outputs": [
    {
     "data": {
      "text/plain": [
       "'HAI hOW ArE YOU'"
      ]
     },
     "execution_count": 57,
     "metadata": {},
     "output_type": "execute_result"
    }
   ],
   "source": [
    "str2='hai How aRe you'\n",
    "str2.swapcase()"
   ]
  },
  {
   "cell_type": "code",
   "execution_count": 62,
   "id": "e328546c",
   "metadata": {},
   "outputs": [
    {
     "data": {
      "text/plain": [
       "15"
      ]
     },
     "execution_count": 62,
     "metadata": {},
     "output_type": "execute_result"
    }
   ],
   "source": [
    "\n",
    "len(str2)"
   ]
  },
  {
   "cell_type": "code",
   "execution_count": 63,
   "id": "7990ed54",
   "metadata": {},
   "outputs": [
    {
     "data": {
      "text/plain": [
       "30"
      ]
     },
     "execution_count": 63,
     "metadata": {},
     "output_type": "execute_result"
    }
   ],
   "source": [
    "len(str2.center(30))"
   ]
  },
  {
   "cell_type": "code",
   "execution_count": 60,
   "id": "c8497f0d",
   "metadata": {},
   "outputs": [
    {
     "data": {
      "text/plain": [
       "'-------hai How aRe you--------'"
      ]
     },
     "execution_count": 60,
     "metadata": {},
     "output_type": "execute_result"
    }
   ],
   "source": [
    "str2.center(30,'-')"
   ]
  },
  {
   "cell_type": "code",
   "execution_count": 89,
   "id": "c0b467e6",
   "metadata": {
    "scrolled": true
   },
   "outputs": [
    {
     "data": {
      "text/plain": [
       "(97, 122, 65, 90)"
      ]
     },
     "execution_count": 89,
     "metadata": {},
     "output_type": "execute_result"
    }
   ],
   "source": [
    "ord('a'),ord('z'),ord('A'),ord('Z')"
   ]
  },
  {
   "cell_type": "code",
   "execution_count": 90,
   "id": "0d2d9777",
   "metadata": {},
   "outputs": [
    {
     "name": "stdout",
     "output_type": "stream",
     "text": [
      "65 A 66 B 67 C 68 D 69 E 70 F 71 G 72 H 73 I 74 J 75 K 76 L 77 M 78 N 79 O 80 P 81 Q 82 R 83 S 84 T 85 U 86 V 87 W 88 X 89 Y 90 Z 91 [ 92 \\ 93 ] 94 ^ 95 _ 96 ` 97 a 98 b 99 c 100 d 101 e 102 f 103 g 104 h 105 i 106 j 107 k 108 l 109 m 110 n 111 o 112 p 113 q 114 r 115 s 116 t 117 u 118 v 119 w 120 x 121 y 122 z "
     ]
    }
   ],
   "source": [
    "for i in range(65,123):\n",
    "    print(i, chr(i),end=' ')"
   ]
  },
  {
   "cell_type": "markdown",
   "id": "557f53b4",
   "metadata": {},
   "source": [
    "#### capitalize() - make the first character have upper case and the rest lowercase."
   ]
  },
  {
   "cell_type": "code",
   "execution_count": 87,
   "id": "949285b3",
   "metadata": {},
   "outputs": [],
   "source": [
    "s='striNgs are Arrays in pYthon'"
   ]
  },
  {
   "cell_type": "code",
   "execution_count": 88,
   "id": "ef4fdd6f",
   "metadata": {},
   "outputs": [
    {
     "data": {
      "text/plain": [
       "'Strings are arrays in python'"
      ]
     },
     "execution_count": 88,
     "metadata": {},
     "output_type": "execute_result"
    }
   ],
   "source": [
    "s.capitalize()"
   ]
  },
  {
   "cell_type": "code",
   "execution_count": 95,
   "id": "ff813996",
   "metadata": {},
   "outputs": [
    {
     "name": "stdout",
     "output_type": "stream",
     "text": [
      "Strings are arrays in python\n"
     ]
    }
   ],
   "source": [
    "#without using methods\n",
    "s='striNgs are Arrays in pYthon'\n",
    "s1=''\n",
    "for i in range(len(s)):\n",
    "    if i==0 and ord(s[i]) >= 97 and ord(s[i]) <= 122:\n",
    "        s1=s1+chr(ord(s[i])-32)\n",
    "    elif ord(s[i]) >= 97 and ord(s[i]) <= 122:\n",
    "        s1=s1+s[i]\n",
    "    elif s[i]==' ':\n",
    "        s1=s1+s[i]\n",
    "    else:\n",
    "        s1=s1+chr(ord(s[i])+32)\n",
    "\n",
    "print(s1)    \n",
    "        "
   ]
  },
  {
   "cell_type": "markdown",
   "id": "004587c4",
   "metadata": {},
   "source": [
    "#### casefold() - Return a version of the string suitable for caseless comparisons. (lowercase)"
   ]
  },
  {
   "cell_type": "code",
   "execution_count": 97,
   "id": "980d3502",
   "metadata": {},
   "outputs": [
    {
     "data": {
      "text/plain": [
       "'strings are arrays in python'"
      ]
     },
     "execution_count": 97,
     "metadata": {},
     "output_type": "execute_result"
    }
   ],
   "source": [
    "s='striNgs are Arrays in pYthon'\n",
    "s.casefold()"
   ]
  },
  {
   "cell_type": "code",
   "execution_count": 100,
   "id": "e8dd8c9e",
   "metadata": {},
   "outputs": [
    {
     "name": "stdout",
     "output_type": "stream",
     "text": [
      "strings are arrays in python\n"
     ]
    }
   ],
   "source": [
    "#without methods\n",
    "s='striNgs are Arrays in pYthon'\n",
    "s1=''\n",
    "for i in range(len(s)):\n",
    "    if ord(s[i])<=90 and ord(s[i])>=65:\n",
    "        s1=s1+chr(ord(s[i])+32)\n",
    "    else:\n",
    "        s1=s1+s[i]\n",
    "print(s1)"
   ]
  },
  {
   "cell_type": "markdown",
   "id": "89dbad0f",
   "metadata": {},
   "source": [
    "#### center() - width specifies on how much length need tp place, fillchar= any string character to be placed len(string)< width\n",
    "\n",
    "- Signature: s.center(width, fillchar=' ', /)\n",
    "\n",
    "- Docstring: Return a centered string of length width.\n",
    "\n",
    "- Padding is done using the specified fill character (default is a space).\n",
    "\n",
    "- Type:      builtin_function_or_method"
   ]
  },
  {
   "cell_type": "code",
   "execution_count": 101,
   "id": "d67fd040",
   "metadata": {},
   "outputs": [
    {
     "data": {
      "text/plain": [
       "28"
      ]
     },
     "execution_count": 101,
     "metadata": {},
     "output_type": "execute_result"
    }
   ],
   "source": [
    "s='striNgs are Arrays in pYthon'\n",
    "len(s)"
   ]
  },
  {
   "cell_type": "code",
   "execution_count": 103,
   "id": "1b34ca0f",
   "metadata": {},
   "outputs": [
    {
     "data": {
      "text/plain": [
       "'striNgs are Arrays in pYthon'"
      ]
     },
     "execution_count": 103,
     "metadata": {},
     "output_type": "execute_result"
    }
   ],
   "source": [
    "#we need to provide the width > 28 if we give less value then entire string will prints\n",
    "s.center(20)"
   ]
  },
  {
   "cell_type": "code",
   "execution_count": 104,
   "id": "b12898d3",
   "metadata": {},
   "outputs": [
    {
     "ename": "TypeError",
     "evalue": "center expected at least 1 argument, got 0",
     "output_type": "error",
     "traceback": [
      "\u001b[1;31m---------------------------------------------------------------------------\u001b[0m",
      "\u001b[1;31mTypeError\u001b[0m                                 Traceback (most recent call last)",
      "Cell \u001b[1;32mIn[104], line 1\u001b[0m\n\u001b[1;32m----> 1\u001b[0m \u001b[43ms\u001b[49m\u001b[38;5;241;43m.\u001b[39;49m\u001b[43mcenter\u001b[49m\u001b[43m(\u001b[49m\u001b[43m)\u001b[49m\n",
      "\u001b[1;31mTypeError\u001b[0m: center expected at least 1 argument, got 0"
     ]
    }
   ],
   "source": [
    "s.center()"
   ]
  },
  {
   "cell_type": "code",
   "execution_count": 105,
   "id": "b0f05f6a",
   "metadata": {},
   "outputs": [
    {
     "data": {
      "text/plain": [
       "'$$$$$$striNgs are Arrays in pYthon$$$$$$'"
      ]
     },
     "execution_count": 105,
     "metadata": {},
     "output_type": "execute_result"
    }
   ],
   "source": [
    "s.center(40,'$')"
   ]
  },
  {
   "cell_type": "markdown",
   "id": "8234dcfb",
   "metadata": {},
   "source": [
    "#### count()\n",
    "\n",
    "- S.count(sub[, start[, end]]) -> int\n",
    "\n",
    "- Return the number of non-overlapping occurrences of substring sub in string S[start:end].  \n",
    "\n",
    "- Optional arguments start and end are interpreted as in slice notation."
   ]
  },
  {
   "cell_type": "code",
   "execution_count": 10,
   "id": "b61421a0",
   "metadata": {},
   "outputs": [
    {
     "name": "stdout",
     "output_type": "stream",
     "text": [
      "31\n",
      "2\n",
      "1\n",
      "2\n",
      "1\n",
      "0\n",
      "0\n",
      "1\n",
      "2\n"
     ]
    }
   ],
   "source": [
    "s='hello how are you how do you do'\n",
    "print(len(s))\n",
    "print(s.count('how'))\n",
    "print(s.count('how',9))\n",
    "print(s.count('do',-9))\n",
    "print(s.count('how',4,10))\n",
    "print(s.count('how',10,12))\n",
    "print(s.count('how',100,200))\n",
    "print(s.count('how',10,100))\n",
    "print(s.count('how',5,-5))"
   ]
  },
  {
   "cell_type": "code",
   "execution_count": 12,
   "id": "3b3b8d42",
   "metadata": {},
   "outputs": [
    {
     "data": {
      "text/plain": [
       "1"
      ]
     },
     "execution_count": 12,
     "metadata": {},
     "output_type": "execute_result"
    }
   ],
   "source": [
    "str1='hai how are you'\n",
    "str1.count('a')\n",
    "str1.count('a',-10,-4)"
   ]
  },
  {
   "cell_type": "code",
   "execution_count": 13,
   "id": "2ca5a7fc",
   "metadata": {},
   "outputs": [
    {
     "data": {
      "text/plain": [
       "0"
      ]
     },
     "execution_count": 13,
     "metadata": {},
     "output_type": "execute_result"
    }
   ],
   "source": [
    "str1.count('a',-4,-10)#only forward direction is working"
   ]
  },
  {
   "cell_type": "markdown",
   "id": "385c284b",
   "metadata": {},
   "source": [
    "- we want number of 'a' from a specific index\n",
    "\n",
    "- we want number of 'a' between two indexes"
   ]
  },
  {
   "cell_type": "code",
   "execution_count": 112,
   "id": "562f3635",
   "metadata": {},
   "outputs": [
    {
     "name": "stdout",
     "output_type": "stream",
     "text": [
      "2\n"
     ]
    }
   ],
   "source": [
    "# without using methods\n",
    "# need to find the count of 'you'\n",
    "s='hello how are you how do you do'\n",
    "c=0\n",
    "for i in range(len(s)-3):\n",
    "    s1=s[i]+s[i+1]+s[i+2]\n",
    "    if s1 == 'you':\n",
    "        c+=1\n",
    "print(c)   "
   ]
  },
  {
   "cell_type": "markdown",
   "id": "ff38305b",
   "metadata": {},
   "source": [
    "**window method**"
   ]
  },
  {
   "cell_type": "code",
   "execution_count": null,
   "id": "5e9d7eab",
   "metadata": {},
   "outputs": [],
   "source": [
    "s='ola ola ola'\n",
    "s[i:i+3]\n",
    "i=0 s[0:3] =>  ola\n",
    "i=1 s[1:4] =>  la\n",
    "i=2 s[2:5] =>  a o"
   ]
  },
  {
   "cell_type": "code",
   "execution_count": 15,
   "id": "e3def751",
   "metadata": {},
   "outputs": [
    {
     "name": "stdout",
     "output_type": "stream",
     "text": [
      "3\n"
     ]
    }
   ],
   "source": [
    "str1='ola ola ola'\n",
    "count=0\n",
    "for i in range(len(str1)-2):\n",
    "    if str1[i:i+3] == 'ola':\n",
    "        count+=1\n",
    "print(count)"
   ]
  },
  {
   "cell_type": "code",
   "execution_count": 16,
   "id": "2bbec0e2",
   "metadata": {},
   "outputs": [
    {
     "data": {
      "text/plain": [
       "1"
      ]
     },
     "execution_count": 16,
     "metadata": {},
     "output_type": "execute_result"
    }
   ],
   "source": [
    "str1='ola ola ola'\n",
    "str1.count(str1)# entire string is counting"
   ]
  },
  {
   "cell_type": "code",
   "execution_count": 17,
   "id": "be3f82d7",
   "metadata": {},
   "outputs": [
    {
     "data": {
      "text/plain": [
       "0"
      ]
     },
     "execution_count": 17,
     "metadata": {},
     "output_type": "execute_result"
    }
   ],
   "source": [
    "str1.count('z')"
   ]
  },
  {
   "cell_type": "markdown",
   "id": "6363b283",
   "metadata": {},
   "source": [
    "#### replace()\n",
    "\n",
    "- Signature: str1.replace(old, new, count=-1, /)\n",
    "\n",
    "- Docstring:Return a copy with all occurrences of substring old replaced by new.\n",
    "\n",
    "- count: Maximum number of occurrences to replace.-1 (the default value) means replace all occurrences.\n",
    "\n",
    "- If the optional argument count is given, only the first count occurrences are replaced.\n",
    "\n",
    "- Type:      builtin_function_or_method"
   ]
  },
  {
   "cell_type": "code",
   "execution_count": null,
   "id": "c802f5e7",
   "metadata": {},
   "outputs": [],
   "source": [
    "str1='welcome'\n",
    "#i want to replace 'l' with 'L'"
   ]
  },
  {
   "cell_type": "code",
   "execution_count": null,
   "id": "47a686db",
   "metadata": {},
   "outputs": [],
   "source": [
    "# we know strings are immutable\n",
    "# we cannot use index operations also\n",
    "# slice and concatenation do\n",
    "# s1='we'\n",
    "# s2='come'\n",
    "# s1+'L'+s2\n"
   ]
  },
  {
   "cell_type": "code",
   "execution_count": 21,
   "id": "7576dd7a",
   "metadata": {},
   "outputs": [
    {
     "name": "stdout",
     "output_type": "stream",
     "text": [
      "weLcome\n"
     ]
    }
   ],
   "source": [
    "s='welcome'\n",
    "s1=''\n",
    "for i in range(len(s)):\n",
    "    if s[i]=='l':\n",
    "        s1=s1+chr(ord('l')-32)\n",
    "    else:\n",
    "        s1=s1+s[i]\n",
    "print(s1)\n",
    "        "
   ]
  },
  {
   "cell_type": "code",
   "execution_count": 22,
   "id": "7fe39b14",
   "metadata": {},
   "outputs": [
    {
     "data": {
      "text/plain": [
       "'weLcome'"
      ]
     },
     "execution_count": 22,
     "metadata": {},
     "output_type": "execute_result"
    }
   ],
   "source": [
    "str1='welcome'\n",
    "str1.replace('l','L')"
   ]
  },
  {
   "cell_type": "code",
   "execution_count": 23,
   "id": "6c1dd23d",
   "metadata": {},
   "outputs": [
    {
     "data": {
      "text/plain": [
       "'weLLcome'"
      ]
     },
     "execution_count": 23,
     "metadata": {},
     "output_type": "execute_result"
    }
   ],
   "source": [
    "str1='wellcome'\n",
    "str1.replace('l','L')"
   ]
  },
  {
   "cell_type": "code",
   "execution_count": 24,
   "id": "a16d531a",
   "metadata": {},
   "outputs": [
    {
     "data": {
      "text/plain": [
       "'weLllcome'"
      ]
     },
     "execution_count": 24,
     "metadata": {},
     "output_type": "execute_result"
    }
   ],
   "source": [
    "str1='welllcome'\n",
    "str1.replace('l','L',1)"
   ]
  },
  {
   "cell_type": "code",
   "execution_count": 25,
   "id": "dd6c2e63",
   "metadata": {},
   "outputs": [
    {
     "data": {
      "text/plain": [
       "'weLLlcome'"
      ]
     },
     "execution_count": 25,
     "metadata": {},
     "output_type": "execute_result"
    }
   ],
   "source": [
    "str1.replace('l','L',2)"
   ]
  },
  {
   "cell_type": "code",
   "execution_count": 31,
   "id": "4b68b2eb",
   "metadata": {},
   "outputs": [
    {
     "name": "stdout",
     "output_type": "stream",
     "text": [
      "resta$t\n"
     ]
    }
   ],
   "source": [
    "#str1='restart'\n",
    "#o/p='resta$t'\n",
    "str1='restart'\n",
    "str2=''\n",
    "for i in range(len(str1)):\n",
    "    if i>0:\n",
    "        str2=str2+str1[i].replace('r','$')\n",
    "    else:\n",
    "        str2=str2+str1[i]\n",
    "print(str2)"
   ]
  },
  {
   "cell_type": "code",
   "execution_count": 34,
   "id": "8fc9210e",
   "metadata": {},
   "outputs": [
    {
     "data": {
      "text/plain": [
       "'resta$t'"
      ]
     },
     "execution_count": 34,
     "metadata": {},
     "output_type": "execute_result"
    }
   ],
   "source": [
    "str1='restart'\n",
    "str1[::-1].replace('r','$',1)[::-1]"
   ]
  },
  {
   "cell_type": "markdown",
   "id": "baa8f24c",
   "metadata": {},
   "source": [
    "**index-find**"
   ]
  },
  {
   "cell_type": "code",
   "execution_count": 39,
   "id": "11f08b0e",
   "metadata": {},
   "outputs": [
    {
     "ename": "TypeError",
     "evalue": "'bool' object is not iterable",
     "output_type": "error",
     "traceback": [
      "\u001b[1;31m---------------------------------------------------------------------------\u001b[0m",
      "\u001b[1;31mTypeError\u001b[0m                                 Traceback (most recent call last)",
      "Cell \u001b[1;32mIn[39], line 2\u001b[0m\n\u001b[0;32m      1\u001b[0m s\u001b[38;5;241m=\u001b[39m\u001b[38;5;124m'\u001b[39m\u001b[38;5;124mheLLo\u001b[39m\u001b[38;5;124m'\u001b[39m\n\u001b[1;32m----> 2\u001b[0m \u001b[38;5;28;43many\u001b[39;49m\u001b[43m(\u001b[49m\u001b[43ms\u001b[49m\u001b[38;5;241;43m.\u001b[39;49m\u001b[43misupper\u001b[49m\u001b[43m(\u001b[49m\u001b[43m)\u001b[49m\u001b[43m)\u001b[49m\n",
      "\u001b[1;31mTypeError\u001b[0m: 'bool' object is not iterable"
     ]
    }
   ],
   "source": []
  },
  {
   "cell_type": "code",
   "execution_count": null,
   "id": "4aec705b",
   "metadata": {},
   "outputs": [],
   "source": []
  }
 ],
 "metadata": {
  "kernelspec": {
   "display_name": "Python 3 (ipykernel)",
   "language": "python",
   "name": "python3"
  },
  "language_info": {
   "codemirror_mode": {
    "name": "ipython",
    "version": 3
   },
   "file_extension": ".py",
   "mimetype": "text/x-python",
   "name": "python",
   "nbconvert_exporter": "python",
   "pygments_lexer": "ipython3",
   "version": "3.10.9"
  }
 },
 "nbformat": 4,
 "nbformat_minor": 5
}
