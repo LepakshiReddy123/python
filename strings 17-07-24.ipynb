{
 "cells": [
  {
   "cell_type": "markdown",
   "id": "a44cf40d",
   "metadata": {},
   "source": [
    "### split()\n",
    "\n",
    "- Syntax: **string_name.split(sep=None, maxsplit=-1)**\n",
    "\n",
    "- Return a list of the substrings in the string, using sep as the separator string.\n",
    "\n",
    "- **sep**: The separator used to split the string.\n",
    "\n",
    "- When set to None (the default value), will split on any whitespace character (including \\\\n \\\\r \\\\t \\\\f and spaces)\n",
    "\n",
    "- and will discard empty strings from the result.\n",
    "\n",
    "- **maxsplit**: Maximum number of splits (starting from the left).\n",
    "    -1 (the default value) means no limit.\n"
   ]
  },
  {
   "cell_type": "code",
   "execution_count": 1,
   "id": "11ac61a7",
   "metadata": {},
   "outputs": [
    {
     "data": {
      "text/plain": [
       "['hai', 'hello', 'how', 'are', 'you']"
      ]
     },
     "execution_count": 1,
     "metadata": {},
     "output_type": "execute_result"
    }
   ],
   "source": [
    "str1='hai hello how are you'\n",
    "str1.split()"
   ]
  },
  {
   "cell_type": "code",
   "execution_count": 10,
   "id": "076df3d7",
   "metadata": {},
   "outputs": [
    {
     "data": {
      "text/plain": [
       "['hai hello how are you']"
      ]
     },
     "execution_count": 10,
     "metadata": {},
     "output_type": "execute_result"
    }
   ],
   "source": [
    "str1='hai hello how are you'\n",
    "str1.split('@')"
   ]
  },
  {
   "cell_type": "code",
   "execution_count": 2,
   "id": "08c2ecbf",
   "metadata": {},
   "outputs": [
    {
     "data": {
      "text/plain": [
       "['hai hello ', ' are you']"
      ]
     },
     "execution_count": 2,
     "metadata": {},
     "output_type": "execute_result"
    }
   ],
   "source": [
    "str1='hai hello how are you'\n",
    "str1.split('how')"
   ]
  },
  {
   "cell_type": "code",
   "execution_count": 4,
   "id": "2f828414",
   "metadata": {},
   "outputs": [
    {
     "data": {
      "text/plain": [
       "['hai', 'hello', 'how', 'are you']"
      ]
     },
     "execution_count": 4,
     "metadata": {},
     "output_type": "execute_result"
    }
   ],
   "source": [
    "str1='hai hello how are you'\n",
    "str1.split(' ',3)"
   ]
  },
  {
   "cell_type": "markdown",
   "id": "c94c5089",
   "metadata": {},
   "source": [
    "- default splitting should be done from left to right\n",
    "\n",
    "- we can also perform the split operation from right to left using **rsplit()**"
   ]
  },
  {
   "cell_type": "markdown",
   "id": "d06360d1",
   "metadata": {},
   "source": [
    "### rsplit(sep=None,maxsplit=-1) \n",
    "\n",
    "- Splitting starts at the end of the string and works to the front."
   ]
  },
  {
   "cell_type": "code",
   "execution_count": 5,
   "id": "8b637bd9",
   "metadata": {},
   "outputs": [
    {
     "data": {
      "text/plain": [
       "['hai', 'hello', 'how', 'are', 'you']"
      ]
     },
     "execution_count": 5,
     "metadata": {},
     "output_type": "execute_result"
    }
   ],
   "source": [
    "str1='hai hello how are you'\n",
    "str1.rsplit()"
   ]
  },
  {
   "cell_type": "code",
   "execution_count": 6,
   "id": "509f9719",
   "metadata": {},
   "outputs": [
    {
     "data": {
      "text/plain": [
       "['hai hello', 'how', 'are', 'you']"
      ]
     },
     "execution_count": 6,
     "metadata": {},
     "output_type": "execute_result"
    }
   ],
   "source": [
    "str1='hai hello how are you'\n",
    "str1.rsplit(' ',3)"
   ]
  },
  {
   "cell_type": "markdown",
   "id": "edc802eb",
   "metadata": {},
   "source": [
    "### strip()\n",
    "\n",
    "- syntax: **string_name.strip(chars=None, /)**\n",
    "\n",
    "- Return a copy of the string with leading and trailing whitespace removed.\n",
    "\n",
    "- If chars is given and not None, remove characters in chars instead."
   ]
  },
  {
   "cell_type": "code",
   "execution_count": 11,
   "id": "ee61b1d9",
   "metadata": {},
   "outputs": [
    {
     "data": {
      "text/plain": [
       "'hai hello how are you'"
      ]
     },
     "execution_count": 11,
     "metadata": {},
     "output_type": "execute_result"
    }
   ],
   "source": [
    "str1=' hai hello how are you     '\n",
    "str1.strip()"
   ]
  },
  {
   "cell_type": "code",
   "execution_count": 12,
   "id": "9243ad7e",
   "metadata": {},
   "outputs": [
    {
     "data": {
      "text/plain": [
       "' hai hello how are you     '"
      ]
     },
     "execution_count": 12,
     "metadata": {},
     "output_type": "execute_result"
    }
   ],
   "source": [
    "str1=' hai hello how are you     '\n",
    "str1.strip('hello')"
   ]
  },
  {
   "cell_type": "code",
   "execution_count": 17,
   "id": "b383dd09",
   "metadata": {},
   "outputs": [
    {
     "data": {
      "text/plain": [
       "'hai hello how are you'"
      ]
     },
     "execution_count": 17,
     "metadata": {},
     "output_type": "execute_result"
    }
   ],
   "source": [
    "str1='hai hello how are you'\n",
    "str1.strip('are')"
   ]
  },
  {
   "cell_type": "code",
   "execution_count": 18,
   "id": "153a8429",
   "metadata": {},
   "outputs": [
    {
     "data": {
      "text/plain": [
       "' hello how are you'"
      ]
     },
     "execution_count": 18,
     "metadata": {},
     "output_type": "execute_result"
    }
   ],
   "source": [
    "str1='hai hello how are you'\n",
    "str1.strip('hai')"
   ]
  },
  {
   "cell_type": "code",
   "execution_count": 19,
   "id": "6d21b745",
   "metadata": {},
   "outputs": [
    {
     "data": {
      "text/plain": [
       "'ai hello how are you'"
      ]
     },
     "execution_count": 19,
     "metadata": {},
     "output_type": "execute_result"
    }
   ],
   "source": [
    "str1='hai hello how are you'\n",
    "str1.strip('hello')"
   ]
  },
  {
   "cell_type": "code",
   "execution_count": 20,
   "id": "0ecd8729",
   "metadata": {},
   "outputs": [
    {
     "data": {
      "text/plain": [
       "'ello how are'"
      ]
     },
     "execution_count": 20,
     "metadata": {},
     "output_type": "execute_result"
    }
   ],
   "source": [
    "str1='hai hello how are you'\n",
    "str1.strip('hai you')"
   ]
  },
  {
   "cell_type": "code",
   "execution_count": 21,
   "id": "bad2e996",
   "metadata": {},
   "outputs": [
    {
     "data": {
      "text/plain": [
       "'i hello how are you'"
      ]
     },
     "execution_count": 21,
     "metadata": {},
     "output_type": "execute_result"
    }
   ],
   "source": [
    "str1='hai hello how are you'\n",
    "str1.strip('ahelorwy')"
   ]
  },
  {
   "cell_type": "markdown",
   "id": "e5d9a5de",
   "metadata": {},
   "source": [
    "### lstrip()\n",
    "\n",
    "- Return a copy of the string with leading whitespace removed.\n",
    "\n",
    "- If chars is given and not None, remove characters in chars instead."
   ]
  },
  {
   "cell_type": "code",
   "execution_count": 22,
   "id": "8c07d2c0",
   "metadata": {},
   "outputs": [
    {
     "data": {
      "text/plain": [
       "'hai hello how are you    '"
      ]
     },
     "execution_count": 22,
     "metadata": {},
     "output_type": "execute_result"
    }
   ],
   "source": [
    "str1='   hai hello how are you    '\n",
    "str1.lstrip()"
   ]
  },
  {
   "cell_type": "code",
   "execution_count": 23,
   "id": "f6a93d52",
   "metadata": {},
   "outputs": [
    {
     "data": {
      "text/plain": [
       "'   hai hello how are you    '"
      ]
     },
     "execution_count": 23,
     "metadata": {},
     "output_type": "execute_result"
    }
   ],
   "source": [
    "str1='   hai hello how are you    '\n",
    "str1.lstrip('you')"
   ]
  },
  {
   "cell_type": "code",
   "execution_count": 25,
   "id": "c1cdd9b8",
   "metadata": {},
   "outputs": [
    {
     "data": {
      "text/plain": [
       "' hello how are you'"
      ]
     },
     "execution_count": 25,
     "metadata": {},
     "output_type": "execute_result"
    }
   ],
   "source": [
    "str1='hai hello how are you'\n",
    "str1.lstrip('hai')"
   ]
  },
  {
   "cell_type": "markdown",
   "id": "c7cb7116",
   "metadata": {},
   "source": [
    "### rstrip()\n",
    "\n",
    "- Return a copy of the string with trailing whitespace removed.\n",
    "\n",
    "- If chars is given and not None, remove characters in chars instead."
   ]
  },
  {
   "cell_type": "code",
   "execution_count": 26,
   "id": "5f072776",
   "metadata": {},
   "outputs": [
    {
     "data": {
      "text/plain": [
       "'   hai hello how are you'"
      ]
     },
     "execution_count": 26,
     "metadata": {},
     "output_type": "execute_result"
    }
   ],
   "source": [
    "str1='   hai hello how are you    '\n",
    "str1.rstrip()"
   ]
  },
  {
   "cell_type": "code",
   "execution_count": 27,
   "id": "ce10ac74",
   "metadata": {},
   "outputs": [
    {
     "data": {
      "text/plain": [
       "'   hai hello how are '"
      ]
     },
     "execution_count": 27,
     "metadata": {},
     "output_type": "execute_result"
    }
   ],
   "source": [
    "str1='   hai hello how are you'\n",
    "str1.rstrip('you')"
   ]
  },
  {
   "cell_type": "markdown",
   "id": "326bfd9e",
   "metadata": {},
   "source": [
    "### startswith()\n",
    "\n",
    "- **S.startswith(prefix,start,end)**\n",
    "\n",
    "- Return True if S starts with the specified prefix, False otherwise.\n",
    "\n",
    "- here start,end are optional"
   ]
  },
  {
   "cell_type": "code",
   "execution_count": 28,
   "id": "c8838c86",
   "metadata": {},
   "outputs": [
    {
     "data": {
      "text/plain": [
       "True"
      ]
     },
     "execution_count": 28,
     "metadata": {},
     "output_type": "execute_result"
    }
   ],
   "source": [
    "str1='hai hello how are you'\n",
    "str1.startswith('hai')"
   ]
  },
  {
   "cell_type": "code",
   "execution_count": 29,
   "id": "d787671d",
   "metadata": {},
   "outputs": [
    {
     "data": {
      "text/plain": [
       "False"
      ]
     },
     "execution_count": 29,
     "metadata": {},
     "output_type": "execute_result"
    }
   ],
   "source": [
    "str1='hai hello how are you'\n",
    "str1.startswith('hello')"
   ]
  },
  {
   "cell_type": "code",
   "execution_count": 30,
   "id": "75c65464",
   "metadata": {},
   "outputs": [
    {
     "data": {
      "text/plain": [
       "False"
      ]
     },
     "execution_count": 30,
     "metadata": {},
     "output_type": "execute_result"
    }
   ],
   "source": [
    "str1='hai hello how are you'\n",
    "str1.startswith('hai',4)"
   ]
  },
  {
   "cell_type": "code",
   "execution_count": 31,
   "id": "d4f67ca8",
   "metadata": {},
   "outputs": [
    {
     "data": {
      "text/plain": [
       "False"
      ]
     },
     "execution_count": 31,
     "metadata": {},
     "output_type": "execute_result"
    }
   ],
   "source": [
    "str1='hai hello how are you'\n",
    "str1.startswith('hai',1)"
   ]
  },
  {
   "cell_type": "code",
   "execution_count": 34,
   "id": "4240d5a4",
   "metadata": {},
   "outputs": [
    {
     "data": {
      "text/plain": [
       "True"
      ]
     },
     "execution_count": 34,
     "metadata": {},
     "output_type": "execute_result"
    }
   ],
   "source": [
    "str1='hai hello hai how are you'\n",
    "str1.startswith('hai',10)"
   ]
  },
  {
   "cell_type": "code",
   "execution_count": 36,
   "id": "04bc129d",
   "metadata": {},
   "outputs": [
    {
     "data": {
      "text/plain": [
       "False"
      ]
     },
     "execution_count": 36,
     "metadata": {},
     "output_type": "execute_result"
    }
   ],
   "source": [
    "str1='hai hello how are you'\n",
    "str1.startswith('hai',1,9)"
   ]
  },
  {
   "cell_type": "code",
   "execution_count": 41,
   "id": "64a86a10",
   "metadata": {},
   "outputs": [
    {
     "data": {
      "text/plain": [
       "True"
      ]
     },
     "execution_count": 41,
     "metadata": {},
     "output_type": "execute_result"
    }
   ],
   "source": [
    "str1='hai hello hai how are you'\n",
    "str1.startswith('hai',-15)"
   ]
  },
  {
   "cell_type": "markdown",
   "id": "00b68f82",
   "metadata": {},
   "source": [
    "### endswith()\n",
    "\n",
    "- S.endswith(suffix,start,end) \n",
    "\n",
    "- Return True if S ends with the specified suffix, False otherwise."
   ]
  },
  {
   "cell_type": "code",
   "execution_count": 42,
   "id": "b685685d",
   "metadata": {},
   "outputs": [
    {
     "data": {
      "text/plain": [
       "True"
      ]
     },
     "execution_count": 42,
     "metadata": {},
     "output_type": "execute_result"
    }
   ],
   "source": [
    "str1='hai hello how are you'\n",
    "str1.endswith('you')"
   ]
  },
  {
   "cell_type": "code",
   "execution_count": 43,
   "id": "5608111a",
   "metadata": {},
   "outputs": [
    {
     "data": {
      "text/plain": [
       "True"
      ]
     },
     "execution_count": 43,
     "metadata": {},
     "output_type": "execute_result"
    }
   ],
   "source": [
    "str1='hai hello how are you'\n",
    "str1.endswith('are you')"
   ]
  },
  {
   "cell_type": "code",
   "execution_count": 50,
   "id": "1975faa6",
   "metadata": {},
   "outputs": [
    {
     "data": {
      "text/plain": [
       "True"
      ]
     },
     "execution_count": 50,
     "metadata": {},
     "output_type": "execute_result"
    }
   ],
   "source": [
    "str1='hai hello how are you'\n",
    "str1.endswith('hello',3,9)"
   ]
  },
  {
   "cell_type": "code",
   "execution_count": null,
   "id": "13e45980",
   "metadata": {},
   "outputs": [],
   "source": []
  }
 ],
 "metadata": {
  "kernelspec": {
   "display_name": "Python 3 (ipykernel)",
   "language": "python",
   "name": "python3"
  },
  "language_info": {
   "codemirror_mode": {
    "name": "ipython",
    "version": 3
   },
   "file_extension": ".py",
   "mimetype": "text/x-python",
   "name": "python",
   "nbconvert_exporter": "python",
   "pygments_lexer": "ipython3",
   "version": "3.10.9"
  }
 },
 "nbformat": 4,
 "nbformat_minor": 5
}
